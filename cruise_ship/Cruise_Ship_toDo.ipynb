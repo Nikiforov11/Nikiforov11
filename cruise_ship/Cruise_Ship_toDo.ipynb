{
  "cells": [
    {
      "cell_type": "markdown",
      "metadata": {
        "colab_type": "text",
        "id": "DHnpKLcboJZq"
      },
      "source": [
        "## **Modelo de Regresión**\n",
        "El objetivo de este ejercicio es encontrar un modelo que permita predecir la tripulación requerida para un crucero.\n",
        "Utilizaremos \"Decisión Tree\" y \"random forest\" y necesitaremos transformar una columna del tipo string en factores (Categorización)\n",
        "\n",
        "https://scikit-learn.org/stable/modules/tree.html\n",
        "https://scikit-learn.org/stable/modules/generated/sklearn.ensemble.RandomForestClassifier.html"
      ]
    },
    {
      "cell_type": "markdown",
      "metadata": {
        "colab_type": "text",
        "id": "M7xzTcVN-3nr"
      },
      "source": [
        "Ayudas:\n",
        "1. ¿Como listar el tipo de datos de cada una de las columnas?\n",
        "for i in data.columns:\n",
        "  print(\"Columna {} tipo: {}\".format(i,data[i].dtype))\n",
        "\n",
        "2. ¿Como categorizar un conjunto de columnas?\n",
        "* hacemos una copia de resguardo\n",
        "label_X_train = X_train.copy()\n",
        "label_X_valid = X_valid.copy()\n",
        "\n",
        "* aplicamos label encoder a cada una de las columnas definidas en \"object_cols\". Las columnas se reemplazan en el conjunto de datos.\n",
        "\n",
        "label_encoder = LabelEncoder()\n",
        "object_cols = ['xxxx', 'yyyy']\n",
        "for col in object_cols:\n",
        "    label_X_train[col] = label_encoder.fit_transform(X_train[col])\n",
        "    label_X_valid[col] = label_encoder.transform(X_valid[col])\n"
      ]
    },
    {
      "cell_type": "code",
      "execution_count": 1,
      "metadata": {
        "colab": {},
        "colab_type": "code",
        "id": "7spIHKpmm8V5"
      },
      "outputs": [],
      "source": [
        "import pandas as pd\n",
        "from sklearn.ensemble import RandomForestRegressor\n",
        "from sklearn.metrics import mean_absolute_error\n",
        "from sklearn.model_selection import train_test_split\n",
        "from sklearn.tree import DecisionTreeRegressor\n",
        "from sklearn.preprocessing import LabelEncoder\n",
        "\n"
      ]
    },
    {
      "cell_type": "markdown",
      "metadata": {
        "colab_type": "text",
        "id": "ewjkVV_XpL3J"
      },
      "source": [
        "## Lectura de datos y exploración"
      ]
    },
    {
      "cell_type": "markdown",
      "metadata": {
        "colab_type": "text",
        "id": "sb_yfojaozWr"
      },
      "source": [
        "Leer el fichero de datos "
      ]
    },
    {
      "cell_type": "code",
      "execution_count": 2,
      "metadata": {
        "colab": {},
        "colab_type": "code",
        "id": "vGXVwsmgTZbO"
      },
      "outputs": [],
      "source": [
        "file_path = \"cruise_ship_info.csv\"\n",
        "data = pd.read_csv(file_path)"
      ]
    },
    {
      "cell_type": "markdown",
      "metadata": {
        "colab_type": "text",
        "id": "plmniYX2pvUu"
      },
      "source": [
        "Listar las primeras filas del fichero para ver los datos"
      ]
    },
    {
      "cell_type": "code",
      "execution_count": 3,
      "metadata": {
        "colab": {
          "base_uri": "https://localhost:8080/",
          "height": 204
        },
        "colab_type": "code",
        "id": "msZ1la2yUWTl",
        "outputId": "9afadf38-c550-46da-ae6c-ea5ac963b7de"
      },
      "outputs": [
        {
          "data": {
            "text/html": [
              "<div>\n",
              "<style scoped>\n",
              "    .dataframe tbody tr th:only-of-type {\n",
              "        vertical-align: middle;\n",
              "    }\n",
              "\n",
              "    .dataframe tbody tr th {\n",
              "        vertical-align: top;\n",
              "    }\n",
              "\n",
              "    .dataframe thead th {\n",
              "        text-align: right;\n",
              "    }\n",
              "</style>\n",
              "<table border=\"1\" class=\"dataframe\">\n",
              "  <thead>\n",
              "    <tr style=\"text-align: right;\">\n",
              "      <th></th>\n",
              "      <th>Ship_name</th>\n",
              "      <th>Cruise_line</th>\n",
              "      <th>Age</th>\n",
              "      <th>Tonnage</th>\n",
              "      <th>passengers</th>\n",
              "      <th>length</th>\n",
              "      <th>cabins</th>\n",
              "      <th>passenger_density</th>\n",
              "      <th>crew</th>\n",
              "    </tr>\n",
              "  </thead>\n",
              "  <tbody>\n",
              "    <tr>\n",
              "      <th>0</th>\n",
              "      <td>Journey</td>\n",
              "      <td>Azamara</td>\n",
              "      <td>6</td>\n",
              "      <td>30.277</td>\n",
              "      <td>6.94</td>\n",
              "      <td>5.94</td>\n",
              "      <td>3.55</td>\n",
              "      <td>42.64</td>\n",
              "      <td>3.55</td>\n",
              "    </tr>\n",
              "    <tr>\n",
              "      <th>1</th>\n",
              "      <td>Quest</td>\n",
              "      <td>Azamara</td>\n",
              "      <td>6</td>\n",
              "      <td>30.277</td>\n",
              "      <td>6.94</td>\n",
              "      <td>5.94</td>\n",
              "      <td>3.55</td>\n",
              "      <td>42.64</td>\n",
              "      <td>3.55</td>\n",
              "    </tr>\n",
              "    <tr>\n",
              "      <th>2</th>\n",
              "      <td>Celebration</td>\n",
              "      <td>Carnival</td>\n",
              "      <td>26</td>\n",
              "      <td>47.262</td>\n",
              "      <td>14.86</td>\n",
              "      <td>7.22</td>\n",
              "      <td>7.43</td>\n",
              "      <td>31.80</td>\n",
              "      <td>6.70</td>\n",
              "    </tr>\n",
              "    <tr>\n",
              "      <th>3</th>\n",
              "      <td>Conquest</td>\n",
              "      <td>Carnival</td>\n",
              "      <td>11</td>\n",
              "      <td>110.000</td>\n",
              "      <td>29.74</td>\n",
              "      <td>9.53</td>\n",
              "      <td>14.88</td>\n",
              "      <td>36.99</td>\n",
              "      <td>19.10</td>\n",
              "    </tr>\n",
              "    <tr>\n",
              "      <th>4</th>\n",
              "      <td>Destiny</td>\n",
              "      <td>Carnival</td>\n",
              "      <td>17</td>\n",
              "      <td>101.353</td>\n",
              "      <td>26.42</td>\n",
              "      <td>8.92</td>\n",
              "      <td>13.21</td>\n",
              "      <td>38.36</td>\n",
              "      <td>10.00</td>\n",
              "    </tr>\n",
              "  </tbody>\n",
              "</table>\n",
              "</div>"
            ],
            "text/plain": [
              "     Ship_name Cruise_line  Age  Tonnage  passengers  length  cabins  \\\n",
              "0      Journey     Azamara    6   30.277        6.94    5.94    3.55   \n",
              "1        Quest     Azamara    6   30.277        6.94    5.94    3.55   \n",
              "2  Celebration    Carnival   26   47.262       14.86    7.22    7.43   \n",
              "3     Conquest    Carnival   11  110.000       29.74    9.53   14.88   \n",
              "4      Destiny    Carnival   17  101.353       26.42    8.92   13.21   \n",
              "\n",
              "   passenger_density   crew  \n",
              "0              42.64   3.55  \n",
              "1              42.64   3.55  \n",
              "2              31.80   6.70  \n",
              "3              36.99  19.10  \n",
              "4              38.36  10.00  "
            ]
          },
          "execution_count": 3,
          "metadata": {},
          "output_type": "execute_result"
        }
      ],
      "source": [
        "data.head()"
      ]
    },
    {
      "cell_type": "markdown",
      "metadata": {
        "colab_type": "text",
        "id": "C497uuSrqEgs"
      },
      "source": [
        "¿cuantas filas y columnas tienen los datos?\n"
      ]
    },
    {
      "cell_type": "code",
      "execution_count": null,
      "metadata": {
        "colab": {
          "base_uri": "https://localhost:8080/",
          "height": 34
        },
        "colab_type": "code",
        "id": "VBaRrgh-qQx5",
        "outputId": "e216de09-1ef5-4587-cf5a-cbe2e5c930dc"
      },
      "outputs": [
        {
          "data": {
            "text/plain": [
              "(158, 9)"
            ]
          },
          "execution_count": 4,
          "metadata": {},
          "output_type": "execute_result"
        }
      ],
      "source": [
        "data.shape"
      ]
    },
    {
      "cell_type": "markdown",
      "metadata": {
        "colab_type": "text",
        "id": "cA8BIlbIrjwV"
      },
      "source": [
        "Explore la cantidad de registros, la media, el desvio y los cuartiles de las columnas numéricas."
      ]
    },
    {
      "cell_type": "code",
      "execution_count": 6,
      "metadata": {
        "colab": {
          "base_uri": "https://localhost:8080/",
          "height": 297
        },
        "colab_type": "code",
        "id": "V3N_RLzdUeqS",
        "outputId": "d169841f-81bb-4cee-dbb5-96c5fe3d6cbf"
      },
      "outputs": [
        {
          "data": {
            "text/plain": [
              "<bound method NDFrame.describe of        Ship_name Cruise_line  Age  Tonnage  passengers  length  cabins  \\\n",
              "0        Journey     Azamara    6   30.277        6.94    5.94    3.55   \n",
              "1          Quest     Azamara    6   30.277        6.94    5.94    3.55   \n",
              "2    Celebration    Carnival   26   47.262       14.86    7.22    7.43   \n",
              "3       Conquest    Carnival   11  110.000       29.74    9.53   14.88   \n",
              "4        Destiny    Carnival   17  101.353       26.42    8.92   13.21   \n",
              "..           ...         ...  ...      ...         ...     ...     ...   \n",
              "153       Taurus        Star   22    3.341        0.66    2.79    0.33   \n",
              "154        Virgo        Star   14   76.800       19.60    8.79    9.67   \n",
              "155       Spirit    Windstar   25    5.350        1.58    4.40    0.74   \n",
              "156         Star    Windstar   27    5.350        1.67    4.40    0.74   \n",
              "157         Surf    Windstar   23   14.745        3.08    6.17    1.56   \n",
              "\n",
              "     passenger_density   crew  \n",
              "0                42.64   3.55  \n",
              "1                42.64   3.55  \n",
              "2                31.80   6.70  \n",
              "3                36.99  19.10  \n",
              "4                38.36  10.00  \n",
              "..                 ...    ...  \n",
              "153              50.62   0.59  \n",
              "154              39.18  12.00  \n",
              "155              33.86   0.88  \n",
              "156              32.04   0.88  \n",
              "157              47.87   1.80  \n",
              "\n",
              "[158 rows x 9 columns]>"
            ]
          },
          "execution_count": 6,
          "metadata": {},
          "output_type": "execute_result"
        }
      ],
      "source": [
        "data.describe"
      ]
    },
    {
      "cell_type": "markdown",
      "metadata": {
        "colab_type": "text",
        "id": "NJgZ1f_OuhKa"
      },
      "source": [
        "Liste las columnas del dataframe indicando el tipo de datos."
      ]
    },
    {
      "cell_type": "code",
      "execution_count": 7,
      "metadata": {
        "colab": {
          "base_uri": "https://localhost:8080/",
          "height": 174
        },
        "colab_type": "code",
        "id": "LnAtF0TAuHea",
        "outputId": "a4764757-dbae-4a41-9e4b-15f12b4806d3"
      },
      "outputs": [
        {
          "name": "stdout",
          "output_type": "stream",
          "text": [
            "Columna Ship_name tipo: object\n",
            "Columna Cruise_line tipo: object\n",
            "Columna Age tipo: int64\n",
            "Columna Tonnage tipo: float64\n",
            "Columna passengers tipo: float64\n",
            "Columna length tipo: float64\n",
            "Columna cabins tipo: float64\n",
            "Columna passenger_density tipo: float64\n",
            "Columna crew tipo: float64\n"
          ]
        }
      ],
      "source": [
        "for col in data.columns:\n",
        "    print(f\"Columna {col} tipo: {data[col].dtype}\")"
      ]
    },
    {
      "cell_type": "markdown",
      "metadata": {
        "colab_type": "text",
        "id": "3nR1R8pusjtW"
      },
      "source": [
        "## Preparación de los datos"
      ]
    },
    {
      "cell_type": "markdown",
      "metadata": {
        "colab_type": "text",
        "id": "QPDFmaJAtED_"
      },
      "source": [
        "Defina la columna objetivo a predecir en \"y\"  y \"X\" el dataframe con las características que se utilizarán para definir el modelo. Tenga en cuenta que solo se utilizarán las columnas numéricas."
      ]
    },
    {
      "cell_type": "code",
      "execution_count": 9,
      "metadata": {
        "colab": {},
        "colab_type": "code",
        "id": "Ks1srCYyUjfE"
      },
      "outputs": [],
      "source": [
        "features = ['Age', 'Tonnage', 'passengers', 'length', 'cabins', 'passenger_density']\n",
        "X = data[features]\n",
        "y = data['crew']\n",
        "\n"
      ]
    },
    {
      "cell_type": "markdown",
      "metadata": {
        "colab_type": "text",
        "id": "0TVFw7bywqHc"
      },
      "source": [
        "Defina las particiones para entrenamiento y de validación con semila=1 e imprima cuantas filas utilizará para entrenamiento y cuantas para validar"
      ]
    },
    {
      "cell_type": "code",
      "execution_count": 11,
      "metadata": {
        "colab": {},
        "colab_type": "code",
        "id": "FE8WkGeZVaWI"
      },
      "outputs": [],
      "source": [
        "# Split into validation and training data\n",
        "train_X, val_X, train_y, val_y = train_test_split(X, y, random_state=1)"
      ]
    },
    {
      "cell_type": "code",
      "execution_count": 15,
      "metadata": {
        "colab": {
          "base_uri": "https://localhost:8080/",
          "height": 139
        },
        "colab_type": "code",
        "id": "Hcy3i2DNvWUH",
        "outputId": "fb3426b1-7814-4fe5-c51d-b49041361ed2"
      },
      "outputs": [
        {
          "name": "stdout",
          "output_type": "stream",
          "text": [
            "(118, 6)\n"
          ]
        }
      ],
      "source": [
        "print(train_X.shape)\n"
      ]
    },
    {
      "cell_type": "code",
      "execution_count": 14,
      "metadata": {
        "colab": {
          "base_uri": "https://localhost:8080/",
          "height": 34
        },
        "colab_type": "code",
        "id": "f4RMHGjzxIo7",
        "outputId": "98765fbc-f5b3-459d-c764-c6f783490ddf"
      },
      "outputs": [
        {
          "name": "stdout",
          "output_type": "stream",
          "text": [
            "(40, 6)\n"
          ]
        }
      ],
      "source": [
        "print(val_X.shape)"
      ]
    },
    {
      "cell_type": "markdown",
      "metadata": {
        "colab_type": "text",
        "id": "gIFxf9nVxUlW"
      },
      "source": [
        "## Definición del modelo"
      ]
    },
    {
      "cell_type": "markdown",
      "metadata": {
        "colab_type": "text",
        "id": "9VbcjQ_LxgnU"
      },
      "source": [
        "Defina el modelo utilizando un arbol de decisión con semilla=1"
      ]
    },
    {
      "cell_type": "code",
      "execution_count": 16,
      "metadata": {
        "colab": {},
        "colab_type": "code",
        "id": "JQXRHYwAVw6i"
      },
      "outputs": [],
      "source": [
        "#Specify Model\n",
        "cruise_ship_dt_model = DecisionTreeRegressor(random_state=1)\n"
      ]
    },
    {
      "cell_type": "markdown",
      "metadata": {
        "colab_type": "text",
        "id": "bgp6FZWExy95"
      },
      "source": [
        "Entrene el modelo "
      ]
    },
    {
      "cell_type": "code",
      "execution_count": 17,
      "metadata": {
        "colab": {
          "base_uri": "https://localhost:8080/",
          "height": 122
        },
        "colab_type": "code",
        "id": "0OPg5lRhx7hW",
        "outputId": "9c960730-409c-41d7-aeab-636d197ec348"
      },
      "outputs": [
        {
          "data": {
            "text/html": [
              "<style>#sk-container-id-1 {\n",
              "  /* Definition of color scheme common for light and dark mode */\n",
              "  --sklearn-color-text: #000;\n",
              "  --sklearn-color-text-muted: #666;\n",
              "  --sklearn-color-line: gray;\n",
              "  /* Definition of color scheme for unfitted estimators */\n",
              "  --sklearn-color-unfitted-level-0: #fff5e6;\n",
              "  --sklearn-color-unfitted-level-1: #f6e4d2;\n",
              "  --sklearn-color-unfitted-level-2: #ffe0b3;\n",
              "  --sklearn-color-unfitted-level-3: chocolate;\n",
              "  /* Definition of color scheme for fitted estimators */\n",
              "  --sklearn-color-fitted-level-0: #f0f8ff;\n",
              "  --sklearn-color-fitted-level-1: #d4ebff;\n",
              "  --sklearn-color-fitted-level-2: #b3dbfd;\n",
              "  --sklearn-color-fitted-level-3: cornflowerblue;\n",
              "\n",
              "  /* Specific color for light theme */\n",
              "  --sklearn-color-text-on-default-background: var(--sg-text-color, var(--theme-code-foreground, var(--jp-content-font-color1, black)));\n",
              "  --sklearn-color-background: var(--sg-background-color, var(--theme-background, var(--jp-layout-color0, white)));\n",
              "  --sklearn-color-border-box: var(--sg-text-color, var(--theme-code-foreground, var(--jp-content-font-color1, black)));\n",
              "  --sklearn-color-icon: #696969;\n",
              "\n",
              "  @media (prefers-color-scheme: dark) {\n",
              "    /* Redefinition of color scheme for dark theme */\n",
              "    --sklearn-color-text-on-default-background: var(--sg-text-color, var(--theme-code-foreground, var(--jp-content-font-color1, white)));\n",
              "    --sklearn-color-background: var(--sg-background-color, var(--theme-background, var(--jp-layout-color0, #111)));\n",
              "    --sklearn-color-border-box: var(--sg-text-color, var(--theme-code-foreground, var(--jp-content-font-color1, white)));\n",
              "    --sklearn-color-icon: #878787;\n",
              "  }\n",
              "}\n",
              "\n",
              "#sk-container-id-1 {\n",
              "  color: var(--sklearn-color-text);\n",
              "}\n",
              "\n",
              "#sk-container-id-1 pre {\n",
              "  padding: 0;\n",
              "}\n",
              "\n",
              "#sk-container-id-1 input.sk-hidden--visually {\n",
              "  border: 0;\n",
              "  clip: rect(1px 1px 1px 1px);\n",
              "  clip: rect(1px, 1px, 1px, 1px);\n",
              "  height: 1px;\n",
              "  margin: -1px;\n",
              "  overflow: hidden;\n",
              "  padding: 0;\n",
              "  position: absolute;\n",
              "  width: 1px;\n",
              "}\n",
              "\n",
              "#sk-container-id-1 div.sk-dashed-wrapped {\n",
              "  border: 1px dashed var(--sklearn-color-line);\n",
              "  margin: 0 0.4em 0.5em 0.4em;\n",
              "  box-sizing: border-box;\n",
              "  padding-bottom: 0.4em;\n",
              "  background-color: var(--sklearn-color-background);\n",
              "}\n",
              "\n",
              "#sk-container-id-1 div.sk-container {\n",
              "  /* jupyter's `normalize.less` sets `[hidden] { display: none; }`\n",
              "     but bootstrap.min.css set `[hidden] { display: none !important; }`\n",
              "     so we also need the `!important` here to be able to override the\n",
              "     default hidden behavior on the sphinx rendered scikit-learn.org.\n",
              "     See: https://github.com/scikit-learn/scikit-learn/issues/21755 */\n",
              "  display: inline-block !important;\n",
              "  position: relative;\n",
              "}\n",
              "\n",
              "#sk-container-id-1 div.sk-text-repr-fallback {\n",
              "  display: none;\n",
              "}\n",
              "\n",
              "div.sk-parallel-item,\n",
              "div.sk-serial,\n",
              "div.sk-item {\n",
              "  /* draw centered vertical line to link estimators */\n",
              "  background-image: linear-gradient(var(--sklearn-color-text-on-default-background), var(--sklearn-color-text-on-default-background));\n",
              "  background-size: 2px 100%;\n",
              "  background-repeat: no-repeat;\n",
              "  background-position: center center;\n",
              "}\n",
              "\n",
              "/* Parallel-specific style estimator block */\n",
              "\n",
              "#sk-container-id-1 div.sk-parallel-item::after {\n",
              "  content: \"\";\n",
              "  width: 100%;\n",
              "  border-bottom: 2px solid var(--sklearn-color-text-on-default-background);\n",
              "  flex-grow: 1;\n",
              "}\n",
              "\n",
              "#sk-container-id-1 div.sk-parallel {\n",
              "  display: flex;\n",
              "  align-items: stretch;\n",
              "  justify-content: center;\n",
              "  background-color: var(--sklearn-color-background);\n",
              "  position: relative;\n",
              "}\n",
              "\n",
              "#sk-container-id-1 div.sk-parallel-item {\n",
              "  display: flex;\n",
              "  flex-direction: column;\n",
              "}\n",
              "\n",
              "#sk-container-id-1 div.sk-parallel-item:first-child::after {\n",
              "  align-self: flex-end;\n",
              "  width: 50%;\n",
              "}\n",
              "\n",
              "#sk-container-id-1 div.sk-parallel-item:last-child::after {\n",
              "  align-self: flex-start;\n",
              "  width: 50%;\n",
              "}\n",
              "\n",
              "#sk-container-id-1 div.sk-parallel-item:only-child::after {\n",
              "  width: 0;\n",
              "}\n",
              "\n",
              "/* Serial-specific style estimator block */\n",
              "\n",
              "#sk-container-id-1 div.sk-serial {\n",
              "  display: flex;\n",
              "  flex-direction: column;\n",
              "  align-items: center;\n",
              "  background-color: var(--sklearn-color-background);\n",
              "  padding-right: 1em;\n",
              "  padding-left: 1em;\n",
              "}\n",
              "\n",
              "\n",
              "/* Toggleable style: style used for estimator/Pipeline/ColumnTransformer box that is\n",
              "clickable and can be expanded/collapsed.\n",
              "- Pipeline and ColumnTransformer use this feature and define the default style\n",
              "- Estimators will overwrite some part of the style using the `sk-estimator` class\n",
              "*/\n",
              "\n",
              "/* Pipeline and ColumnTransformer style (default) */\n",
              "\n",
              "#sk-container-id-1 div.sk-toggleable {\n",
              "  /* Default theme specific background. It is overwritten whether we have a\n",
              "  specific estimator or a Pipeline/ColumnTransformer */\n",
              "  background-color: var(--sklearn-color-background);\n",
              "}\n",
              "\n",
              "/* Toggleable label */\n",
              "#sk-container-id-1 label.sk-toggleable__label {\n",
              "  cursor: pointer;\n",
              "  display: flex;\n",
              "  width: 100%;\n",
              "  margin-bottom: 0;\n",
              "  padding: 0.5em;\n",
              "  box-sizing: border-box;\n",
              "  text-align: center;\n",
              "  align-items: start;\n",
              "  justify-content: space-between;\n",
              "  gap: 0.5em;\n",
              "}\n",
              "\n",
              "#sk-container-id-1 label.sk-toggleable__label .caption {\n",
              "  font-size: 0.6rem;\n",
              "  font-weight: lighter;\n",
              "  color: var(--sklearn-color-text-muted);\n",
              "}\n",
              "\n",
              "#sk-container-id-1 label.sk-toggleable__label-arrow:before {\n",
              "  /* Arrow on the left of the label */\n",
              "  content: \"▸\";\n",
              "  float: left;\n",
              "  margin-right: 0.25em;\n",
              "  color: var(--sklearn-color-icon);\n",
              "}\n",
              "\n",
              "#sk-container-id-1 label.sk-toggleable__label-arrow:hover:before {\n",
              "  color: var(--sklearn-color-text);\n",
              "}\n",
              "\n",
              "/* Toggleable content - dropdown */\n",
              "\n",
              "#sk-container-id-1 div.sk-toggleable__content {\n",
              "  max-height: 0;\n",
              "  max-width: 0;\n",
              "  overflow: hidden;\n",
              "  text-align: left;\n",
              "  /* unfitted */\n",
              "  background-color: var(--sklearn-color-unfitted-level-0);\n",
              "}\n",
              "\n",
              "#sk-container-id-1 div.sk-toggleable__content.fitted {\n",
              "  /* fitted */\n",
              "  background-color: var(--sklearn-color-fitted-level-0);\n",
              "}\n",
              "\n",
              "#sk-container-id-1 div.sk-toggleable__content pre {\n",
              "  margin: 0.2em;\n",
              "  border-radius: 0.25em;\n",
              "  color: var(--sklearn-color-text);\n",
              "  /* unfitted */\n",
              "  background-color: var(--sklearn-color-unfitted-level-0);\n",
              "}\n",
              "\n",
              "#sk-container-id-1 div.sk-toggleable__content.fitted pre {\n",
              "  /* unfitted */\n",
              "  background-color: var(--sklearn-color-fitted-level-0);\n",
              "}\n",
              "\n",
              "#sk-container-id-1 input.sk-toggleable__control:checked~div.sk-toggleable__content {\n",
              "  /* Expand drop-down */\n",
              "  max-height: 200px;\n",
              "  max-width: 100%;\n",
              "  overflow: auto;\n",
              "}\n",
              "\n",
              "#sk-container-id-1 input.sk-toggleable__control:checked~label.sk-toggleable__label-arrow:before {\n",
              "  content: \"▾\";\n",
              "}\n",
              "\n",
              "/* Pipeline/ColumnTransformer-specific style */\n",
              "\n",
              "#sk-container-id-1 div.sk-label input.sk-toggleable__control:checked~label.sk-toggleable__label {\n",
              "  color: var(--sklearn-color-text);\n",
              "  background-color: var(--sklearn-color-unfitted-level-2);\n",
              "}\n",
              "\n",
              "#sk-container-id-1 div.sk-label.fitted input.sk-toggleable__control:checked~label.sk-toggleable__label {\n",
              "  background-color: var(--sklearn-color-fitted-level-2);\n",
              "}\n",
              "\n",
              "/* Estimator-specific style */\n",
              "\n",
              "/* Colorize estimator box */\n",
              "#sk-container-id-1 div.sk-estimator input.sk-toggleable__control:checked~label.sk-toggleable__label {\n",
              "  /* unfitted */\n",
              "  background-color: var(--sklearn-color-unfitted-level-2);\n",
              "}\n",
              "\n",
              "#sk-container-id-1 div.sk-estimator.fitted input.sk-toggleable__control:checked~label.sk-toggleable__label {\n",
              "  /* fitted */\n",
              "  background-color: var(--sklearn-color-fitted-level-2);\n",
              "}\n",
              "\n",
              "#sk-container-id-1 div.sk-label label.sk-toggleable__label,\n",
              "#sk-container-id-1 div.sk-label label {\n",
              "  /* The background is the default theme color */\n",
              "  color: var(--sklearn-color-text-on-default-background);\n",
              "}\n",
              "\n",
              "/* On hover, darken the color of the background */\n",
              "#sk-container-id-1 div.sk-label:hover label.sk-toggleable__label {\n",
              "  color: var(--sklearn-color-text);\n",
              "  background-color: var(--sklearn-color-unfitted-level-2);\n",
              "}\n",
              "\n",
              "/* Label box, darken color on hover, fitted */\n",
              "#sk-container-id-1 div.sk-label.fitted:hover label.sk-toggleable__label.fitted {\n",
              "  color: var(--sklearn-color-text);\n",
              "  background-color: var(--sklearn-color-fitted-level-2);\n",
              "}\n",
              "\n",
              "/* Estimator label */\n",
              "\n",
              "#sk-container-id-1 div.sk-label label {\n",
              "  font-family: monospace;\n",
              "  font-weight: bold;\n",
              "  display: inline-block;\n",
              "  line-height: 1.2em;\n",
              "}\n",
              "\n",
              "#sk-container-id-1 div.sk-label-container {\n",
              "  text-align: center;\n",
              "}\n",
              "\n",
              "/* Estimator-specific */\n",
              "#sk-container-id-1 div.sk-estimator {\n",
              "  font-family: monospace;\n",
              "  border: 1px dotted var(--sklearn-color-border-box);\n",
              "  border-radius: 0.25em;\n",
              "  box-sizing: border-box;\n",
              "  margin-bottom: 0.5em;\n",
              "  /* unfitted */\n",
              "  background-color: var(--sklearn-color-unfitted-level-0);\n",
              "}\n",
              "\n",
              "#sk-container-id-1 div.sk-estimator.fitted {\n",
              "  /* fitted */\n",
              "  background-color: var(--sklearn-color-fitted-level-0);\n",
              "}\n",
              "\n",
              "/* on hover */\n",
              "#sk-container-id-1 div.sk-estimator:hover {\n",
              "  /* unfitted */\n",
              "  background-color: var(--sklearn-color-unfitted-level-2);\n",
              "}\n",
              "\n",
              "#sk-container-id-1 div.sk-estimator.fitted:hover {\n",
              "  /* fitted */\n",
              "  background-color: var(--sklearn-color-fitted-level-2);\n",
              "}\n",
              "\n",
              "/* Specification for estimator info (e.g. \"i\" and \"?\") */\n",
              "\n",
              "/* Common style for \"i\" and \"?\" */\n",
              "\n",
              ".sk-estimator-doc-link,\n",
              "a:link.sk-estimator-doc-link,\n",
              "a:visited.sk-estimator-doc-link {\n",
              "  float: right;\n",
              "  font-size: smaller;\n",
              "  line-height: 1em;\n",
              "  font-family: monospace;\n",
              "  background-color: var(--sklearn-color-background);\n",
              "  border-radius: 1em;\n",
              "  height: 1em;\n",
              "  width: 1em;\n",
              "  text-decoration: none !important;\n",
              "  margin-left: 0.5em;\n",
              "  text-align: center;\n",
              "  /* unfitted */\n",
              "  border: var(--sklearn-color-unfitted-level-1) 1pt solid;\n",
              "  color: var(--sklearn-color-unfitted-level-1);\n",
              "}\n",
              "\n",
              ".sk-estimator-doc-link.fitted,\n",
              "a:link.sk-estimator-doc-link.fitted,\n",
              "a:visited.sk-estimator-doc-link.fitted {\n",
              "  /* fitted */\n",
              "  border: var(--sklearn-color-fitted-level-1) 1pt solid;\n",
              "  color: var(--sklearn-color-fitted-level-1);\n",
              "}\n",
              "\n",
              "/* On hover */\n",
              "div.sk-estimator:hover .sk-estimator-doc-link:hover,\n",
              ".sk-estimator-doc-link:hover,\n",
              "div.sk-label-container:hover .sk-estimator-doc-link:hover,\n",
              ".sk-estimator-doc-link:hover {\n",
              "  /* unfitted */\n",
              "  background-color: var(--sklearn-color-unfitted-level-3);\n",
              "  color: var(--sklearn-color-background);\n",
              "  text-decoration: none;\n",
              "}\n",
              "\n",
              "div.sk-estimator.fitted:hover .sk-estimator-doc-link.fitted:hover,\n",
              ".sk-estimator-doc-link.fitted:hover,\n",
              "div.sk-label-container:hover .sk-estimator-doc-link.fitted:hover,\n",
              ".sk-estimator-doc-link.fitted:hover {\n",
              "  /* fitted */\n",
              "  background-color: var(--sklearn-color-fitted-level-3);\n",
              "  color: var(--sklearn-color-background);\n",
              "  text-decoration: none;\n",
              "}\n",
              "\n",
              "/* Span, style for the box shown on hovering the info icon */\n",
              ".sk-estimator-doc-link span {\n",
              "  display: none;\n",
              "  z-index: 9999;\n",
              "  position: relative;\n",
              "  font-weight: normal;\n",
              "  right: .2ex;\n",
              "  padding: .5ex;\n",
              "  margin: .5ex;\n",
              "  width: min-content;\n",
              "  min-width: 20ex;\n",
              "  max-width: 50ex;\n",
              "  color: var(--sklearn-color-text);\n",
              "  box-shadow: 2pt 2pt 4pt #999;\n",
              "  /* unfitted */\n",
              "  background: var(--sklearn-color-unfitted-level-0);\n",
              "  border: .5pt solid var(--sklearn-color-unfitted-level-3);\n",
              "}\n",
              "\n",
              ".sk-estimator-doc-link.fitted span {\n",
              "  /* fitted */\n",
              "  background: var(--sklearn-color-fitted-level-0);\n",
              "  border: var(--sklearn-color-fitted-level-3);\n",
              "}\n",
              "\n",
              ".sk-estimator-doc-link:hover span {\n",
              "  display: block;\n",
              "}\n",
              "\n",
              "/* \"?\"-specific style due to the `<a>` HTML tag */\n",
              "\n",
              "#sk-container-id-1 a.estimator_doc_link {\n",
              "  float: right;\n",
              "  font-size: 1rem;\n",
              "  line-height: 1em;\n",
              "  font-family: monospace;\n",
              "  background-color: var(--sklearn-color-background);\n",
              "  border-radius: 1rem;\n",
              "  height: 1rem;\n",
              "  width: 1rem;\n",
              "  text-decoration: none;\n",
              "  /* unfitted */\n",
              "  color: var(--sklearn-color-unfitted-level-1);\n",
              "  border: var(--sklearn-color-unfitted-level-1) 1pt solid;\n",
              "}\n",
              "\n",
              "#sk-container-id-1 a.estimator_doc_link.fitted {\n",
              "  /* fitted */\n",
              "  border: var(--sklearn-color-fitted-level-1) 1pt solid;\n",
              "  color: var(--sklearn-color-fitted-level-1);\n",
              "}\n",
              "\n",
              "/* On hover */\n",
              "#sk-container-id-1 a.estimator_doc_link:hover {\n",
              "  /* unfitted */\n",
              "  background-color: var(--sklearn-color-unfitted-level-3);\n",
              "  color: var(--sklearn-color-background);\n",
              "  text-decoration: none;\n",
              "}\n",
              "\n",
              "#sk-container-id-1 a.estimator_doc_link.fitted:hover {\n",
              "  /* fitted */\n",
              "  background-color: var(--sklearn-color-fitted-level-3);\n",
              "}\n",
              "</style><div id=\"sk-container-id-1\" class=\"sk-top-container\"><div class=\"sk-text-repr-fallback\"><pre>DecisionTreeRegressor(random_state=1)</pre><b>In a Jupyter environment, please rerun this cell to show the HTML representation or trust the notebook. <br />On GitHub, the HTML representation is unable to render, please try loading this page with nbviewer.org.</b></div><div class=\"sk-container\" hidden><div class=\"sk-item\"><div class=\"sk-estimator fitted sk-toggleable\"><input class=\"sk-toggleable__control sk-hidden--visually\" id=\"sk-estimator-id-1\" type=\"checkbox\" checked><label for=\"sk-estimator-id-1\" class=\"sk-toggleable__label fitted sk-toggleable__label-arrow\"><div><div>DecisionTreeRegressor</div></div><div><a class=\"sk-estimator-doc-link fitted\" rel=\"noreferrer\" target=\"_blank\" href=\"https://scikit-learn.org/1.6/modules/generated/sklearn.tree.DecisionTreeRegressor.html\">?<span>Documentation for DecisionTreeRegressor</span></a><span class=\"sk-estimator-doc-link fitted\">i<span>Fitted</span></span></div></label><div class=\"sk-toggleable__content fitted\"><pre>DecisionTreeRegressor(random_state=1)</pre></div> </div></div></div></div>"
            ],
            "text/plain": [
              "DecisionTreeRegressor(random_state=1)"
            ]
          },
          "execution_count": 17,
          "metadata": {},
          "output_type": "execute_result"
        }
      ],
      "source": [
        "# Fit Model\n",
        "cruise_ship_dt_model.fit(train_X, train_y)"
      ]
    },
    {
      "cell_type": "markdown",
      "metadata": {
        "colab_type": "text",
        "id": "1HBu_ZiAyfO9"
      },
      "source": [
        "## Predicción y validación del modelo "
      ]
    },
    {
      "cell_type": "markdown",
      "metadata": {
        "colab_type": "text",
        "id": "bccY66GfzJCH"
      },
      "source": [
        "Utilice el modelo para realizar las predicciones con los datos de validación y calcule el valor MAE (mean absolute error) obtenido sin haber indicado la cantidad de hojas (max_leaf_nodes)."
      ]
    },
    {
      "cell_type": "code",
      "execution_count": 18,
      "metadata": {
        "colab": {
          "base_uri": "https://localhost:8080/",
          "height": 34
        },
        "colab_type": "code",
        "id": "-hGydPMH0Ohd",
        "outputId": "1c9be088-93c5-453e-c3dc-996526e8484a"
      },
      "outputs": [
        {
          "name": "stdout",
          "output_type": "stream",
          "text": [
            "Validation MAE when not specifying max_leaf_nodes 0.503000\n"
          ]
        }
      ],
      "source": [
        "val_predictions = cruise_ship_dt_model.predict(val_X)\n",
        "val_mae = mean_absolute_error(val_y, val_predictions)\n",
        "print(\"Validation MAE when not specifying max_leaf_nodes %f\" %val_mae)"
      ]
    },
    {
      "cell_type": "markdown",
      "metadata": {
        "colab_type": "text",
        "id": "m3gJCmEg1UoJ"
      },
      "source": [
        "Defina la función \"get_mae\" que le permite calcular valores MAE para diferentes arbóles de decisión con diferentes números de hojas"
      ]
    },
    {
      "cell_type": "code",
      "execution_count": 19,
      "metadata": {
        "colab": {},
        "colab_type": "code",
        "id": "uFNQwRB_1pm7"
      },
      "outputs": [],
      "source": [
        "def get_mae(max_leaf_nodes, train_X, val_X, train_y, val_y):\n",
        "    model = DecisionTreeRegressor(max_leaf_nodes=max_leaf_nodes, random_state=1)\n",
        "    model.fit(train_X, train_y)\n",
        "    preds_val = model.predict(val_X)\n",
        "    mae = mean_absolute_error(val_y, preds_val)\n",
        "    return(mae)"
      ]
    },
    {
      "cell_type": "markdown",
      "metadata": {
        "colab_type": "text",
        "id": "7kTeLLwu1s2O"
      },
      "source": [
        "Utilice la función get_mae para calcular MAE para los tamaños de 10,50,100,200,500,1000"
      ]
    },
    {
      "cell_type": "code",
      "execution_count": 20,
      "metadata": {
        "colab": {
          "base_uri": "https://localhost:8080/",
          "height": 122
        },
        "colab_type": "code",
        "id": "evdY3sFR1_dX",
        "outputId": "a4be4423-fcd5-48f8-f1b8-07805f50ee96"
      },
      "outputs": [
        {
          "name": "stdout",
          "output_type": "stream",
          "text": [
            "Max leaf nodes: 10 \t\t Mean Absolute Error: 0.768456\n",
            "Max leaf nodes: 50 \t\t Mean Absolute Error: 0.547230\n",
            "Max leaf nodes: 100 \t\t Mean Absolute Error: 0.481750\n",
            "Max leaf nodes: 200 \t\t Mean Absolute Error: 0.481750\n",
            "Max leaf nodes: 500 \t\t Mean Absolute Error: 0.481750\n",
            "Max leaf nodes: 1000 \t\t Mean Absolute Error: 0.481750\n"
          ]
        }
      ],
      "source": [
        "# Calcular MAE para diferentes valores de max_leaf_nodes\n",
        "for max_leaf_nodes in [10, 50, 100, 200, 500, 1000]:\n",
        "\tmae = get_mae(max_leaf_nodes, train_X, val_X, train_y, val_y)\n",
        "\tprint(\"Max leaf nodes: %d \\t\\t Mean Absolute Error: %f\" %(max_leaf_nodes, mae))"
      ]
    },
    {
      "cell_type": "markdown",
      "metadata": {
        "colab_type": "text",
        "id": "ZANlPf2E2V5V"
      },
      "source": [
        "¿Cuál es el valor optimo de \"max_leaf_nodes\" a utilizar para este modelo?"
      ]
    },
    {
      "cell_type": "code",
      "execution_count": 21,
      "metadata": {
        "colab": {},
        "colab_type": "code",
        "id": "CA0JgZ6r2iWi"
      },
      "outputs": [],
      "source": [
        "max_leaf_nodes = 100"
      ]
    },
    {
      "cell_type": "code",
      "execution_count": 22,
      "metadata": {
        "colab": {},
        "colab_type": "code",
        "id": "g8yzRK7_2oyx"
      },
      "outputs": [],
      "source": [
        "assert max_leaf_nodes==100,\"Error en max_leaf_nodes\""
      ]
    },
    {
      "cell_type": "markdown",
      "metadata": {
        "colab_type": "text",
        "id": "L6V4gS8w3SYv"
      },
      "source": [
        "Calcule el vector de predicciones utilizando el modelo con la cantidad de hojas optimo y semilla 1 utilizando ahora todos los datos. Calcule el mae final."
      ]
    },
    {
      "cell_type": "code",
      "execution_count": 23,
      "metadata": {
        "colab": {
          "base_uri": "https://localhost:8080/",
          "height": 34
        },
        "colab_type": "code",
        "id": "pZYAE-goWEDs",
        "outputId": "ca7ca031-5788-42db-9544-acc5db0fe412"
      },
      "outputs": [
        {
          "name": "stdout",
          "output_type": "stream",
          "text": [
            "Max leaf nodes: 100  \t\t Mean Absolute Error:  0.007004\n"
          ]
        }
      ],
      "source": [
        "model = DecisionTreeRegressor(max_leaf_nodes=max_leaf_nodes, random_state=1)\n",
        "model.fit(X, y)\n",
        "pred_tot = model.predict(X)\n",
        "mae = mean_absolute_error(y, pred_tot)\n",
        "print(\"Max leaf nodes: %d  \\t\\t Mean Absolute Error:  %f\" %(max_leaf_nodes, mae))"
      ]
    },
    {
      "cell_type": "markdown",
      "metadata": {
        "colab_type": "text",
        "id": "RM-A1CtcEf9F"
      },
      "source": [
        "¿Que porcentaje de error obtengo respecto a la media de los valores a predecir?"
      ]
    },
    {
      "cell_type": "code",
      "execution_count": 24,
      "metadata": {
        "colab": {
          "base_uri": "https://localhost:8080/",
          "height": 34
        },
        "colab_type": "code",
        "id": "0W3ra2QP97aw",
        "outputId": "da12ddbf-8f20-4e3a-a0a4-386ae69af14f"
      },
      "outputs": [
        {
          "name": "stdout",
          "output_type": "stream",
          "text": [
            "0.08986476976213031\n"
          ]
        }
      ],
      "source": [
        "print((mae / y.mean()) * 100)"
      ]
    },
    {
      "cell_type": "code",
      "execution_count": 25,
      "metadata": {
        "colab": {},
        "colab_type": "code",
        "id": "pJ_q9zVUAkPY"
      },
      "outputs": [],
      "source": [
        "assert round((mae / y.mean())*100)==0,\"Error en resultado de porcentaje de error\""
      ]
    },
    {
      "cell_type": "markdown",
      "metadata": {
        "colab_type": "text",
        "id": "ZGBqOHH25A7_"
      },
      "source": [
        "Explore al menos 10 valores calculados con la predicción y compare con los valore originales"
      ]
    },
    {
      "cell_type": "code",
      "execution_count": 26,
      "metadata": {
        "colab": {
          "base_uri": "https://localhost:8080/",
          "height": 192
        },
        "colab_type": "code",
        "id": "KveJ_jb7WqlW",
        "outputId": "93b6c3d2-842d-4c62-d25c-c31977b8d5c4"
      },
      "outputs": [
        {
          "name": "stdout",
          "output_type": "stream",
          "text": [
            "Predicción: 3.53 \t Valor real: 3.55\n",
            "Predicción: 3.53 \t Valor real: 3.55\n",
            "Predicción: 6.65 \t Valor real: 6.70\n",
            "Predicción: 19.10 \t Valor real: 19.10\n",
            "Predicción: 10.00 \t Valor real: 10.00\n",
            "Predicción: 9.20 \t Valor real: 9.20\n",
            "Predicción: 9.20 \t Valor real: 9.20\n",
            "Predicción: 9.20 \t Valor real: 9.20\n",
            "Predicción: 9.20 \t Valor real: 9.20\n",
            "Predicción: 11.50 \t Valor real: 11.50\n"
          ]
        }
      ],
      "source": [
        "# Mostrar los primeros 10 valores predichos y los valores originales\n",
        "for i, (pred, real) in enumerate(zip(pred_tot[:10], y[:10])):\n",
        "\tprint(f\"Predicción: {pred:.2f} \\t Valor real: {real:.2f}\")"
      ]
    },
    {
      "cell_type": "markdown",
      "metadata": {
        "colab_type": "text",
        "id": "LDeqH0Lh8rSm"
      },
      "source": [
        "## Random Forest "
      ]
    },
    {
      "cell_type": "markdown",
      "metadata": {
        "colab_type": "text",
        "id": "kUjBa2mI7yRP"
      },
      "source": [
        "Utilice ahora un modelo RandomForest con semilla=1 y calcule el MAE para los datos de validación"
      ]
    },
    {
      "cell_type": "code",
      "execution_count": 27,
      "metadata": {
        "colab": {
          "base_uri": "https://localhost:8080/",
          "height": 34
        },
        "colab_type": "code",
        "id": "-g5tKTVk0BjW",
        "outputId": "ba4fc014-3a3d-48ba-afe0-fb145d28d0d5"
      },
      "outputs": [
        {
          "name": "stdout",
          "output_type": "stream",
          "text": [
            "Mae Random forest con datos de validación=0.432155\n"
          ]
        }
      ],
      "source": [
        "forest_model = RandomForestRegressor(random_state=1)\n",
        "forest_model.fit(train_X, train_y)\n",
        "val_predict_rf = forest_model.predict(val_X)\n",
        "mae_val_rf = mean_absolute_error(val_y, val_predict_rf)\n",
        "print(\"Mae Random forest con datos de validación=%f\" % (mae_val_rf))\n"
      ]
    },
    {
      "cell_type": "markdown",
      "metadata": {
        "colab_type": "text",
        "id": "hIkIiZkdEPax"
      },
      "source": [
        " Utilice todos los datos"
      ]
    },
    {
      "cell_type": "code",
      "execution_count": 28,
      "metadata": {
        "colab": {
          "base_uri": "https://localhost:8080/",
          "height": 34
        },
        "colab_type": "code",
        "id": "S_SV_acg0SBR",
        "outputId": "f8d7a0be-47cb-4507-f640-cf97dc236dad"
      },
      "outputs": [
        {
          "name": "stdout",
          "output_type": "stream",
          "text": [
            "Mae Random forest con todos los datos=0.198572\n"
          ]
        }
      ],
      "source": [
        "forest_model.fit(X, y)\n",
        "predict_rf_tot = forest_model.predict(X)\n",
        "mae_tot_rf = mean_absolute_error(y, predict_rf_tot)\n",
        "print(\"Mae Random forest con todos los datos=%f\" % (mae_tot_rf))\n"
      ]
    },
    {
      "cell_type": "markdown",
      "metadata": {
        "colab_type": "text",
        "id": "_UZJkGa-_mDq"
      },
      "source": [
        "¿Que porcentaje de error obtengo respecto a la media de los valores a predecir utilizando random_forest?"
      ]
    },
    {
      "cell_type": "code",
      "execution_count": 29,
      "metadata": {
        "colab": {
          "base_uri": "https://localhost:8080/",
          "height": 34
        },
        "colab_type": "code",
        "id": "zDjmxQyD-iQf",
        "outputId": "7241d56f-b22f-483f-80ce-dc06606a89bf"
      },
      "outputs": [
        {
          "name": "stdout",
          "output_type": "stream",
          "text": [
            "2.5477003280605484\n"
          ]
        }
      ],
      "source": [
        "print((mae_tot_rf / y.mean()) * 100)"
      ]
    },
    {
      "cell_type": "code",
      "execution_count": 30,
      "metadata": {
        "colab": {},
        "colab_type": "code",
        "id": "4gFkvXw-_-Hb"
      },
      "outputs": [],
      "source": [
        "assert round((mae_tot_rf / y.mean())*100)==3,\"Error en resultado de porcentaje de error\""
      ]
    },
    {
      "cell_type": "markdown",
      "metadata": {
        "colab_type": "text",
        "id": "oPb4mVdeSJ6b"
      },
      "source": [
        "## Categorización de variables"
      ]
    },
    {
      "cell_type": "markdown",
      "metadata": {
        "colab_type": "text",
        "id": "fYMlRJuLIA92"
      },
      "source": [
        "redefinir las columnas \"features\" y los datos X. Volver a particionar los datos incluyendo la nueva columna a factorizar"
      ]
    },
    {
      "cell_type": "code",
      "execution_count": 31,
      "metadata": {
        "colab": {},
        "colab_type": "code",
        "id": "Nq2e-z5nH_ml"
      },
      "outputs": [],
      "source": [
        "features=[\"Cruise_line\", \"Age\", \"Tonnage\",\"passengers\",'length','cabins','passenger_density']\n",
        "X = data[features]"
      ]
    },
    {
      "cell_type": "code",
      "execution_count": 32,
      "metadata": {
        "colab": {},
        "colab_type": "code",
        "id": "AkIW0xy8IWF2"
      },
      "outputs": [],
      "source": [
        "X_train, X_valid, y_train, y_valid = train_test_split(X, y, random_state=1)"
      ]
    },
    {
      "cell_type": "markdown",
      "metadata": {
        "colab_type": "text",
        "id": "PByY9VckFJ_o"
      },
      "source": [
        "Definir la funcion label_encoder, la lista de las columnas a transformar y aplicar la transpormación."
      ]
    },
    {
      "cell_type": "code",
      "execution_count": 33,
      "metadata": {
        "colab": {},
        "colab_type": "code",
        "id": "PwXk-5AUG92p"
      },
      "outputs": [],
      "source": [
        "#hacemos una copia de resguardo\n",
        "label_X_train = X_train.copy()\n",
        "label_X_valid = X_valid.copy()\n",
        "\n",
        "# Apply label encoder to each column with categorical data\n",
        "label_encoder = LabelEncoder()\n",
        "object_cols = ['Cruise_line']\n",
        "for col in object_cols:\n",
        "    label_X_train[col] = label_encoder.fit_transform(X_train[col])\n",
        "    label_X_valid[col] = label_encoder.transform(X_valid[col])\n",
        "\n"
      ]
    },
    {
      "cell_type": "markdown",
      "metadata": {
        "colab_type": "text",
        "id": "IFRyK9enIxki"
      },
      "source": [
        "Explorar el vector X de entrenamiento antes y despues de aplicar la categorización. Utilice set, unique() y nunique()"
      ]
    },
    {
      "cell_type": "code",
      "execution_count": 34,
      "metadata": {
        "colab": {
          "base_uri": "https://localhost:8080/",
          "height": 367
        },
        "colab_type": "code",
        "id": "rdqOtqtXJdVq",
        "outputId": "38a719e6-bc51-4939-e950-f6c8622af489"
      },
      "outputs": [
        {
          "data": {
            "text/plain": [
              "{'Azamara',\n",
              " 'Carnival',\n",
              " 'Celebrity',\n",
              " 'Costa',\n",
              " 'Crystal',\n",
              " 'Cunard',\n",
              " 'Disney',\n",
              " 'Holland_American',\n",
              " 'MSC',\n",
              " 'Norwegian',\n",
              " 'Oceania',\n",
              " 'Orient',\n",
              " 'P&O',\n",
              " 'Princess',\n",
              " 'Regent_Seven_Seas',\n",
              " 'Royal_Caribbean',\n",
              " 'Seabourn',\n",
              " 'Silversea',\n",
              " 'Star',\n",
              " 'Windstar'}"
            ]
          },
          "execution_count": 34,
          "metadata": {},
          "output_type": "execute_result"
        }
      ],
      "source": [
        "set(X['Cruise_line'])"
      ]
    },
    {
      "cell_type": "code",
      "execution_count": 35,
      "metadata": {
        "colab": {
          "base_uri": "https://localhost:8080/",
          "height": 34
        },
        "colab_type": "code",
        "id": "kOy7ZHWIKlw-",
        "outputId": "84b2c87e-39dc-41c7-b223-fd2496cb3a7d"
      },
      "outputs": [
        {
          "name": "stdout",
          "output_type": "stream",
          "text": [
            "Cantidad de Unique values in Cruise_line column in training data: 20\n"
          ]
        }
      ],
      "source": [
        "print(\"Cantidad de Unique values in Cruise_line column in training data:\", X_train['Cruise_line'].nunique())"
      ]
    },
    {
      "cell_type": "code",
      "execution_count": 36,
      "metadata": {
        "colab": {
          "base_uri": "https://localhost:8080/",
          "height": 262
        },
        "colab_type": "code",
        "id": "-ZzaCeGXI5D0",
        "outputId": "7c0b70ae-8ba3-4512-eb08-9966f8a4eb17"
      },
      "outputs": [
        {
          "name": "stdout",
          "output_type": "stream",
          "text": [
            "<bound method NDFrame.head of      Cruise_line  Age  Tonnage  passengers  length  cabins  passenger_density\n",
            "56             7   10   81.769       18.48    9.59    9.24              44.25\n",
            "136           15   16   78.491       24.35    9.15   10.00              32.23\n",
            "132           15   22   73.941       27.44    8.80   11.77              30.94\n",
            "12             1   18   70.367       20.52    8.55   10.20              34.29\n",
            "54             7   20   55.451       12.64    7.19    6.32              43.87\n",
            "..           ...  ...      ...         ...     ...     ...                ...\n",
            "133           15   11  138.000       31.14   10.20   15.57              44.32\n",
            "137           15   10   90.090       25.01    9.62   10.50              36.02\n",
            "72             8   36   16.852        9.52    5.41    3.83              17.70\n",
            "140           15   15   78.491       24.35    9.15   10.00              32.23\n",
            "37             3   27   53.872       14.94    7.98    7.67              36.06\n",
            "\n",
            "[118 rows x 7 columns]>\n"
          ]
        }
      ],
      "source": [
        "print(label_X_train.head)"
      ]
    },
    {
      "cell_type": "code",
      "execution_count": 37,
      "metadata": {
        "colab": {
          "base_uri": "https://localhost:8080/",
          "height": 34
        },
        "colab_type": "code",
        "id": "vD-dxA26LbNa",
        "outputId": "773cb0e7-cef7-4cdb-c4ed-43260238bcd8"
      },
      "outputs": [
        {
          "name": "stdout",
          "output_type": "stream",
          "text": [
            "Unique values in Cruise_line luego de aplicar la codificación de label: [ 7 15  1 13  2  8 14  9  5 11  4  3 17  0 10 18 12 19  6 16]\n"
          ]
        }
      ],
      "source": [
        "print(\"Unique values in Cruise_line luego de aplicar la codificación de label:\", label_X_train['Cruise_line'].unique())"
      ]
    },
    {
      "cell_type": "markdown",
      "metadata": {
        "colab_type": "text",
        "id": "xoNoUC-QMwT_"
      },
      "source": [
        "Defina un nuevo modelo utilizando con la nueva característica e indique los nuevos valores MAE con los datos de validación utilizando Random Forest y Decision Tree. ¿Ha conseguido disminuir el error?"
      ]
    },
    {
      "cell_type": "code",
      "execution_count": 38,
      "metadata": {
        "colab": {},
        "colab_type": "code",
        "id": "_gAKf9C1P6F5"
      },
      "outputs": [],
      "source": [
        "def score_dataset_RandomForest(X_train, X_valid, y_train, y_valid,n_estimators=100):\n",
        "    model = RandomForestRegressor(n_estimators=100, random_state=1)\n",
        "    model.fit(X_train, y_train)\n",
        "    preds = model.predict(X_valid)\n",
        "    return mean_absolute_error(y_valid, preds)\n",
        "\n",
        "def score_dataset_DecisionTree(X_train, X_valid, y_train, y_valid,max_leaf_nodes=100):\n",
        "    model=DecisionTreeRegressor(max_leaf_nodes=max_leaf_nodes, random_state=1)\n",
        "    model.fit(X_train, y_train)\n",
        "    preds = model.predict(X_valid)\n",
        "    return mean_absolute_error(y_valid, preds)\n"
      ]
    },
    {
      "cell_type": "code",
      "execution_count": 39,
      "metadata": {
        "colab": {
          "base_uri": "https://localhost:8080/",
          "height": 52
        },
        "colab_type": "code",
        "id": "cKc3ZQBEP9cr",
        "outputId": "e0d8d1e3-2940-499d-f4d7-88daf89ae3fd"
      },
      "outputs": [
        {
          "name": "stdout",
          "output_type": "stream",
          "text": [
            "MAE incluyendo Cruise Line utilizando Random Forest:\n",
            "0.3761275000000009\n"
          ]
        }
      ],
      "source": [
        "print(\"MAE incluyendo Cruise Line utilizando Random Forest:\") \n",
        "print(score_dataset_RandomForest(label_X_train, label_X_valid, y_train, y_valid))"
      ]
    },
    {
      "cell_type": "code",
      "execution_count": 40,
      "metadata": {
        "colab": {
          "base_uri": "https://localhost:8080/",
          "height": 52
        },
        "colab_type": "code",
        "id": "XBhH6XPcRinH",
        "outputId": "52f29889-937a-4318-8068-aa9401abd30b"
      },
      "outputs": [
        {
          "name": "stdout",
          "output_type": "stream",
          "text": [
            "MAE incluyendo Cruise Line utilizando Decision Tres:\n",
            "0.45899999999999996\n"
          ]
        }
      ],
      "source": [
        "print(\"MAE incluyendo Cruise Line utilizando Decision Tres:\") \n",
        "print(score_dataset_DecisionTree(label_X_train, label_X_valid, y_train, y_valid))"
      ]
    }
  ],
  "metadata": {
    "colab": {
      "collapsed_sections": [],
      "name": "Cruise_Ship_toDo.ipynb",
      "provenance": [],
      "toc_visible": true
    },
    "kernelspec": {
      "display_name": "Python 3",
      "name": "python3"
    },
    "language_info": {
      "codemirror_mode": {
        "name": "ipython",
        "version": 3
      },
      "file_extension": ".py",
      "mimetype": "text/x-python",
      "name": "python",
      "nbconvert_exporter": "python",
      "pygments_lexer": "ipython3",
      "version": "3.13.0"
    }
  },
  "nbformat": 4,
  "nbformat_minor": 0
}
