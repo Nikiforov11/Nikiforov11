{
  "cells": [
    {
      "cell_type": "markdown",
      "metadata": {
        "colab_type": "text",
        "id": "DHnpKLcboJZq"
      },
      "source": [
        "## **Modelo de Clasificación**\n",
        "El objetivo de este ejercicio es encontrar un modelo que permita predecir si un cliente cancelará o no el servicio al que se ha abonado (churn).\n",
        "\n",
        "https://es.wikipedia.org/wiki/Tasa_de_cancelaci%C3%B3n_de_clientes\n",
        "\n",
        "Utilizaremos los modelos de clasificación RandomForest, Regresion Logística,  y clasificación MultiClass. \n",
        "Revisaremos como utilizar una característica \"timestamp\"\n",
        "\n",
        "https://scikit-learn.org/stable/modules/generated/sklearn.ensemble.RandomForestClassifier.html\n",
        "\n",
        "https://scikit-learn.org/stable/modules/generated/sklearn.linear_model.LogisticRegression.html\n",
        "https://scikit-learn.org/stable/modules/generated/sklearn.neural_network.MLPClassifier.html"
      ]
    },
    {
      "cell_type": "code",
      "execution_count": 1,
      "metadata": {
        "colab": {},
        "colab_type": "code",
        "id": "7spIHKpmm8V5"
      },
      "outputs": [],
      "source": [
        "import pandas as pd\n",
        "from sklearn.ensemble import RandomForestClassifier\n",
        "from sklearn.neural_network import MLPClassifier\n",
        "from sklearn.metrics import mean_absolute_error\n",
        "from sklearn.model_selection import train_test_split\n",
        "from sklearn.linear_model import LogisticRegression\n",
        "from sklearn.preprocessing import LabelEncoder\n",
        "from sklearn import metrics\n",
        "\n",
        "\n"
      ]
    },
    {
      "cell_type": "markdown",
      "metadata": {
        "colab_type": "text",
        "id": "gVEQeGa6cKMo"
      },
      "source": [
        "Ayudas:\n",
        "\n",
        "1. Indicar en la lectura del fichero csv que columna(s) se tratan como \"datetime\". Ejemplo, \"Onboard_date\"\n",
        "\n",
        "data = pd.read_csv(file_path, parse_dates=[\"Onboard_date\"])\n",
        "\n",
        "2. Convertir la columna tipo \"datetime\" en numérica utilizando la función \"toordinal\"\n",
        "\n",
        "from datetime import datetime\n",
        "X['Onboard_date']=X['Onboard_date'].apply(datetime.toordinal)\n",
        "\n"
      ]
    },
    {
      "cell_type": "markdown",
      "metadata": {
        "colab_type": "text",
        "id": "ewjkVV_XpL3J"
      },
      "source": [
        "## Lectura de datos y exploración"
      ]
    },
    {
      "cell_type": "markdown",
      "metadata": {
        "colab_type": "text",
        "id": "sb_yfojaozWr"
      },
      "source": [
        "Leer el fichero de datos \"*Ecommerce_Customers*.csv\". Incluya la cláusula  parse_dates=[\"Onboard_date\"] para convertir la columna a timpo timestamp."
      ]
    },
    {
      "cell_type": "code",
      "execution_count": 2,
      "metadata": {
        "colab": {},
        "colab_type": "code",
        "id": "vGXVwsmgTZbO"
      },
      "outputs": [],
      "source": [
        "file_path = \"customer_churn.csv\"\n",
        "data = pd.read_csv(file_path)"
      ]
    },
    {
      "cell_type": "markdown",
      "metadata": {
        "colab_type": "text",
        "id": "plmniYX2pvUu"
      },
      "source": [
        "Listar las primeras filas del fichero para ver los datos"
      ]
    },
    {
      "cell_type": "code",
      "execution_count": 3,
      "metadata": {
        "colab": {
          "base_uri": "https://localhost:8080/",
          "height": 204
        },
        "colab_type": "code",
        "id": "msZ1la2yUWTl",
        "outputId": "d2f844d0-0def-4213-a4fd-805b6ba4ab62"
      },
      "outputs": [
        {
          "data": {
            "text/html": [
              "<div>\n",
              "<style scoped>\n",
              "    .dataframe tbody tr th:only-of-type {\n",
              "        vertical-align: middle;\n",
              "    }\n",
              "\n",
              "    .dataframe tbody tr th {\n",
              "        vertical-align: top;\n",
              "    }\n",
              "\n",
              "    .dataframe thead th {\n",
              "        text-align: right;\n",
              "    }\n",
              "</style>\n",
              "<table border=\"1\" class=\"dataframe\">\n",
              "  <thead>\n",
              "    <tr style=\"text-align: right;\">\n",
              "      <th></th>\n",
              "      <th>Names</th>\n",
              "      <th>Age</th>\n",
              "      <th>Total_Purchase</th>\n",
              "      <th>Account_Manager</th>\n",
              "      <th>Years</th>\n",
              "      <th>Num_Sites</th>\n",
              "      <th>Onboard_date</th>\n",
              "      <th>Location</th>\n",
              "      <th>Company</th>\n",
              "      <th>Churn</th>\n",
              "    </tr>\n",
              "  </thead>\n",
              "  <tbody>\n",
              "    <tr>\n",
              "      <th>0</th>\n",
              "      <td>Cameron Williams</td>\n",
              "      <td>42.0</td>\n",
              "      <td>11066.80</td>\n",
              "      <td>0</td>\n",
              "      <td>7.22</td>\n",
              "      <td>8.0</td>\n",
              "      <td>2013-08-30 07:00:40</td>\n",
              "      <td>10265 Elizabeth Mission Barkerburgh, AK 89518</td>\n",
              "      <td>Harvey LLC</td>\n",
              "      <td>1</td>\n",
              "    </tr>\n",
              "    <tr>\n",
              "      <th>1</th>\n",
              "      <td>Kevin Mueller</td>\n",
              "      <td>41.0</td>\n",
              "      <td>11916.22</td>\n",
              "      <td>0</td>\n",
              "      <td>6.50</td>\n",
              "      <td>11.0</td>\n",
              "      <td>2013-08-13 00:38:46</td>\n",
              "      <td>6157 Frank Gardens Suite 019 Carloshaven, RI 1...</td>\n",
              "      <td>Wilson PLC</td>\n",
              "      <td>1</td>\n",
              "    </tr>\n",
              "    <tr>\n",
              "      <th>2</th>\n",
              "      <td>Eric Lozano</td>\n",
              "      <td>38.0</td>\n",
              "      <td>12884.75</td>\n",
              "      <td>0</td>\n",
              "      <td>6.67</td>\n",
              "      <td>12.0</td>\n",
              "      <td>2016-06-29 06:20:07</td>\n",
              "      <td>1331 Keith Court Alyssahaven, DE 90114</td>\n",
              "      <td>Miller, Johnson and Wallace</td>\n",
              "      <td>1</td>\n",
              "    </tr>\n",
              "    <tr>\n",
              "      <th>3</th>\n",
              "      <td>Phillip White</td>\n",
              "      <td>42.0</td>\n",
              "      <td>8010.76</td>\n",
              "      <td>0</td>\n",
              "      <td>6.71</td>\n",
              "      <td>10.0</td>\n",
              "      <td>2014-04-22 12:43:12</td>\n",
              "      <td>13120 Daniel Mount Angelabury, WY 30645-4695</td>\n",
              "      <td>Smith Inc</td>\n",
              "      <td>1</td>\n",
              "    </tr>\n",
              "    <tr>\n",
              "      <th>4</th>\n",
              "      <td>Cynthia Norton</td>\n",
              "      <td>37.0</td>\n",
              "      <td>9191.58</td>\n",
              "      <td>0</td>\n",
              "      <td>5.56</td>\n",
              "      <td>9.0</td>\n",
              "      <td>2016-01-19 15:31:15</td>\n",
              "      <td>765 Tricia Row Karenshire, MH 71730</td>\n",
              "      <td>Love-Jones</td>\n",
              "      <td>1</td>\n",
              "    </tr>\n",
              "  </tbody>\n",
              "</table>\n",
              "</div>"
            ],
            "text/plain": [
              "              Names   Age  Total_Purchase  Account_Manager  Years  Num_Sites  \\\n",
              "0  Cameron Williams  42.0        11066.80                0   7.22        8.0   \n",
              "1     Kevin Mueller  41.0        11916.22                0   6.50       11.0   \n",
              "2       Eric Lozano  38.0        12884.75                0   6.67       12.0   \n",
              "3     Phillip White  42.0         8010.76                0   6.71       10.0   \n",
              "4    Cynthia Norton  37.0         9191.58                0   5.56        9.0   \n",
              "\n",
              "          Onboard_date                                           Location  \\\n",
              "0  2013-08-30 07:00:40      10265 Elizabeth Mission Barkerburgh, AK 89518   \n",
              "1  2013-08-13 00:38:46  6157 Frank Gardens Suite 019 Carloshaven, RI 1...   \n",
              "2  2016-06-29 06:20:07             1331 Keith Court Alyssahaven, DE 90114   \n",
              "3  2014-04-22 12:43:12       13120 Daniel Mount Angelabury, WY 30645-4695   \n",
              "4  2016-01-19 15:31:15                765 Tricia Row Karenshire, MH 71730   \n",
              "\n",
              "                       Company  Churn  \n",
              "0                   Harvey LLC      1  \n",
              "1                   Wilson PLC      1  \n",
              "2  Miller, Johnson and Wallace      1  \n",
              "3                    Smith Inc      1  \n",
              "4                   Love-Jones      1  "
            ]
          },
          "execution_count": 3,
          "metadata": {},
          "output_type": "execute_result"
        }
      ],
      "source": [
        "data.head()"
      ]
    },
    {
      "cell_type": "markdown",
      "metadata": {
        "colab_type": "text",
        "id": "C497uuSrqEgs"
      },
      "source": [
        "¿cuantas filas y columnas tienen los datos?\n"
      ]
    },
    {
      "cell_type": "code",
      "execution_count": 5,
      "metadata": {
        "colab": {
          "base_uri": "https://localhost:8080/",
          "height": 34
        },
        "colab_type": "code",
        "id": "VBaRrgh-qQx5",
        "outputId": "22c37726-243d-4859-f4ba-e06a9f0c5bed"
      },
      "outputs": [
        {
          "data": {
            "text/plain": [
              "(900, 10)"
            ]
          },
          "execution_count": 5,
          "metadata": {},
          "output_type": "execute_result"
        }
      ],
      "source": [
        "data.shape"
      ]
    },
    {
      "cell_type": "markdown",
      "metadata": {
        "colab_type": "text",
        "id": "cA8BIlbIrjwV"
      },
      "source": [
        "Explore la cantidad de registros, la media, el desvio y los cuartiles de las columnas numéricas."
      ]
    },
    {
      "cell_type": "code",
      "execution_count": 6,
      "metadata": {
        "colab": {
          "base_uri": "https://localhost:8080/",
          "height": 297
        },
        "colab_type": "code",
        "id": "V3N_RLzdUeqS",
        "outputId": "62529a9c-f6eb-4025-a596-e92d8c8183b2"
      },
      "outputs": [
        {
          "data": {
            "text/html": [
              "<div>\n",
              "<style scoped>\n",
              "    .dataframe tbody tr th:only-of-type {\n",
              "        vertical-align: middle;\n",
              "    }\n",
              "\n",
              "    .dataframe tbody tr th {\n",
              "        vertical-align: top;\n",
              "    }\n",
              "\n",
              "    .dataframe thead th {\n",
              "        text-align: right;\n",
              "    }\n",
              "</style>\n",
              "<table border=\"1\" class=\"dataframe\">\n",
              "  <thead>\n",
              "    <tr style=\"text-align: right;\">\n",
              "      <th></th>\n",
              "      <th>Age</th>\n",
              "      <th>Total_Purchase</th>\n",
              "      <th>Account_Manager</th>\n",
              "      <th>Years</th>\n",
              "      <th>Num_Sites</th>\n",
              "      <th>Churn</th>\n",
              "    </tr>\n",
              "  </thead>\n",
              "  <tbody>\n",
              "    <tr>\n",
              "      <th>count</th>\n",
              "      <td>900.000000</td>\n",
              "      <td>900.000000</td>\n",
              "      <td>900.000000</td>\n",
              "      <td>900.000000</td>\n",
              "      <td>900.000000</td>\n",
              "      <td>900.000000</td>\n",
              "    </tr>\n",
              "    <tr>\n",
              "      <th>mean</th>\n",
              "      <td>41.816667</td>\n",
              "      <td>10062.824033</td>\n",
              "      <td>0.481111</td>\n",
              "      <td>5.273156</td>\n",
              "      <td>8.587778</td>\n",
              "      <td>0.166667</td>\n",
              "    </tr>\n",
              "    <tr>\n",
              "      <th>std</th>\n",
              "      <td>6.127560</td>\n",
              "      <td>2408.644532</td>\n",
              "      <td>0.499921</td>\n",
              "      <td>1.274449</td>\n",
              "      <td>1.764836</td>\n",
              "      <td>0.372885</td>\n",
              "    </tr>\n",
              "    <tr>\n",
              "      <th>min</th>\n",
              "      <td>22.000000</td>\n",
              "      <td>100.000000</td>\n",
              "      <td>0.000000</td>\n",
              "      <td>1.000000</td>\n",
              "      <td>3.000000</td>\n",
              "      <td>0.000000</td>\n",
              "    </tr>\n",
              "    <tr>\n",
              "      <th>25%</th>\n",
              "      <td>38.000000</td>\n",
              "      <td>8497.122500</td>\n",
              "      <td>0.000000</td>\n",
              "      <td>4.450000</td>\n",
              "      <td>7.000000</td>\n",
              "      <td>0.000000</td>\n",
              "    </tr>\n",
              "    <tr>\n",
              "      <th>50%</th>\n",
              "      <td>42.000000</td>\n",
              "      <td>10045.870000</td>\n",
              "      <td>0.000000</td>\n",
              "      <td>5.215000</td>\n",
              "      <td>8.000000</td>\n",
              "      <td>0.000000</td>\n",
              "    </tr>\n",
              "    <tr>\n",
              "      <th>75%</th>\n",
              "      <td>46.000000</td>\n",
              "      <td>11760.105000</td>\n",
              "      <td>1.000000</td>\n",
              "      <td>6.110000</td>\n",
              "      <td>10.000000</td>\n",
              "      <td>0.000000</td>\n",
              "    </tr>\n",
              "    <tr>\n",
              "      <th>max</th>\n",
              "      <td>65.000000</td>\n",
              "      <td>18026.010000</td>\n",
              "      <td>1.000000</td>\n",
              "      <td>9.150000</td>\n",
              "      <td>14.000000</td>\n",
              "      <td>1.000000</td>\n",
              "    </tr>\n",
              "  </tbody>\n",
              "</table>\n",
              "</div>"
            ],
            "text/plain": [
              "              Age  Total_Purchase  Account_Manager       Years   Num_Sites  \\\n",
              "count  900.000000      900.000000       900.000000  900.000000  900.000000   \n",
              "mean    41.816667    10062.824033         0.481111    5.273156    8.587778   \n",
              "std      6.127560     2408.644532         0.499921    1.274449    1.764836   \n",
              "min     22.000000      100.000000         0.000000    1.000000    3.000000   \n",
              "25%     38.000000     8497.122500         0.000000    4.450000    7.000000   \n",
              "50%     42.000000    10045.870000         0.000000    5.215000    8.000000   \n",
              "75%     46.000000    11760.105000         1.000000    6.110000   10.000000   \n",
              "max     65.000000    18026.010000         1.000000    9.150000   14.000000   \n",
              "\n",
              "            Churn  \n",
              "count  900.000000  \n",
              "mean     0.166667  \n",
              "std      0.372885  \n",
              "min      0.000000  \n",
              "25%      0.000000  \n",
              "50%      0.000000  \n",
              "75%      0.000000  \n",
              "max      1.000000  "
            ]
          },
          "execution_count": 6,
          "metadata": {},
          "output_type": "execute_result"
        }
      ],
      "source": [
        "data.describe()"
      ]
    },
    {
      "cell_type": "markdown",
      "metadata": {
        "colab_type": "text",
        "id": "NJgZ1f_OuhKa"
      },
      "source": [
        "Liste las columnas del dataframe indicando el tipo de datos."
      ]
    },
    {
      "cell_type": "code",
      "execution_count": 7,
      "metadata": {
        "colab": {
          "base_uri": "https://localhost:8080/",
          "height": 192
        },
        "colab_type": "code",
        "id": "LnAtF0TAuHea",
        "outputId": "22d0852d-3abf-43cc-a746-c0b8f37b4900"
      },
      "outputs": [
        {
          "name": "stdout",
          "output_type": "stream",
          "text": [
            "Columna Names tipo: object\n",
            "Columna Age tipo: float64\n",
            "Columna Total_Purchase tipo: float64\n",
            "Columna Account_Manager tipo: int64\n",
            "Columna Years tipo: float64\n",
            "Columna Num_Sites tipo: float64\n",
            "Columna Onboard_date tipo: object\n",
            "Columna Location tipo: object\n",
            "Columna Company tipo: object\n",
            "Columna Churn tipo: int64\n"
          ]
        }
      ],
      "source": [
        "for col in data.columns:\n",
        "    print(f\"Columna {col} tipo: {data[col].dtype}\")"
      ]
    },
    {
      "cell_type": "markdown",
      "metadata": {
        "colab_type": "text",
        "id": "3nR1R8pusjtW"
      },
      "source": [
        "## Preparación de los datos"
      ]
    },
    {
      "cell_type": "markdown",
      "metadata": {
        "colab_type": "text",
        "id": "QPDFmaJAtED_"
      },
      "source": [
        "Defina la columna objetivo a predecir en \"y\"  y  \"X\", el dataframe con las características que se utilizarán (sólo las numéricas y la fecha). Luego imprima las primeras filas del conjunto de datos totales con las características."
      ]
    },
    {
      "cell_type": "code",
      "execution_count": 8,
      "metadata": {
        "colab": {
          "base_uri": "https://localhost:8080/",
          "height": 262
        },
        "colab_type": "code",
        "id": "Ks1srCYyUjfE",
        "outputId": "da2a814c-64b5-42e3-d7d1-503cbae037bd"
      },
      "outputs": [
        {
          "name": "stdout",
          "output_type": "stream",
          "text": [
            "    Age  Total_Purchase  Account_Manager  Years  Num_Sites  \\\n",
            "0  42.0        11066.80                0   7.22        8.0   \n",
            "1  41.0        11916.22                0   6.50       11.0   \n",
            "2  38.0        12884.75                0   6.67       12.0   \n",
            "3  42.0         8010.76                0   6.71       10.0   \n",
            "4  37.0         9191.58                0   5.56        9.0   \n",
            "\n",
            "          Onboard_date  \n",
            "0  2013-08-30 07:00:40  \n",
            "1  2013-08-13 00:38:46  \n",
            "2  2016-06-29 06:20:07  \n",
            "3  2014-04-22 12:43:12  \n",
            "4  2016-01-19 15:31:15  \n"
          ]
        }
      ],
      "source": [
        "# target object y\n",
        "y = data[\"Churn\"]\n",
        "# Create X with only numeric and date columns\n",
        "features = [\"Age\", \"Total_Purchase\", \"Account_Manager\", \"Years\", \"Num_Sites\", \"Onboard_date\"]\n",
        "X = data[features]\n",
        "\n",
        "print(X.head())"
      ]
    },
    {
      "cell_type": "markdown",
      "metadata": {
        "colab_type": "text",
        "id": "tGNs42qZ6RWk"
      },
      "source": [
        "Convierta la columna timestamp en numérica, utilizanlo la función \"toordinal\""
      ]
    },
    {
      "cell_type": "code",
      "execution_count": 0,
      "metadata": {
        "colab": {},
        "colab_type": "code",
        "id": "TZP1NP2yv3bm"
      },
      "outputs": [],
      "source": [
        "from datetime import datetime\n",
        "\n",
        "X['Onboard_date'] = X['Onboard_date'].apply(datetime.fromisoformat).apply(datetime.toordinal)\n"
      ]
    },
    {
      "cell_type": "markdown",
      "metadata": {
        "colab_type": "text",
        "id": "Ey7qdY4U6wMm"
      },
      "source": [
        "Revise los datos X"
      ]
    },
    {
      "cell_type": "code",
      "execution_count": 9,
      "metadata": {
        "colab": {
          "base_uri": "https://localhost:8080/",
          "height": 262
        },
        "colab_type": "code",
        "id": "RfCtZH6W2gb5",
        "outputId": "f6c9705a-68d4-4d7e-a57e-11b011f771b8"
      },
      "outputs": [
        {
          "name": "stdout",
          "output_type": "stream",
          "text": [
            "    Age  Total_Purchase  Account_Manager  Years  Num_Sites  \\\n",
            "0  42.0        11066.80                0   7.22        8.0   \n",
            "1  41.0        11916.22                0   6.50       11.0   \n",
            "2  38.0        12884.75                0   6.67       12.0   \n",
            "3  42.0         8010.76                0   6.71       10.0   \n",
            "4  37.0         9191.58                0   5.56        9.0   \n",
            "\n",
            "          Onboard_date  \n",
            "0  2013-08-30 07:00:40  \n",
            "1  2013-08-13 00:38:46  \n",
            "2  2016-06-29 06:20:07  \n",
            "3  2014-04-22 12:43:12  \n",
            "4  2016-01-19 15:31:15  \n"
          ]
        }
      ],
      "source": [
        "print(X.head())"
      ]
    },
    {
      "cell_type": "markdown",
      "metadata": {
        "colab_type": "text",
        "id": "0TVFw7bywqHc"
      },
      "source": [
        "Defina las particiones para entrenamiento y de validación con semila=1 y dejando un 20% de filas para test. Imprima cuantas filas utilizará para entrenamiento y cuantas para validar"
      ]
    },
    {
      "cell_type": "code",
      "execution_count": 10,
      "metadata": {
        "colab": {},
        "colab_type": "code",
        "id": "FE8WkGeZVaWI"
      },
      "outputs": [],
      "source": [
        "# Split into validation and training data\n",
        "train_X, val_X, train_y, val_y = train_test_split(X, y, test_size=0.2, random_state=1)"
      ]
    },
    {
      "cell_type": "code",
      "execution_count": null,
      "metadata": {
        "colab": {
          "base_uri": "https://localhost:8080/",
          "height": 139
        },
        "colab_type": "code",
        "id": "Hcy3i2DNvWUH",
        "outputId": "407d57e5-5e39-4bad-9a08-b855a5d33356"
      },
      "outputs": [
        {
          "name": "stdout",
          "output_type": "stream",
          "text": [
            "(720, 6) (180, 6)\n"
          ]
        }
      ],
      "source": [
        "print(train_X.shape)\n"
      ]
    },
    {
      "cell_type": "code",
      "execution_count": 12,
      "metadata": {
        "colab": {
          "base_uri": "https://localhost:8080/",
          "height": 34
        },
        "colab_type": "code",
        "id": "f4RMHGjzxIo7",
        "outputId": "8a993eec-fb02-4e22-af4d-1aaa6e07e39b"
      },
      "outputs": [
        {
          "name": "stdout",
          "output_type": "stream",
          "text": [
            "(180, 6)\n"
          ]
        }
      ],
      "source": [
        "print(val_X.shape)"
      ]
    },
    {
      "cell_type": "markdown",
      "metadata": {
        "colab_type": "text",
        "id": "gIFxf9nVxUlW"
      },
      "source": [
        "## Definición del modelo"
      ]
    },
    {
      "cell_type": "markdown",
      "metadata": {
        "colab_type": "text",
        "id": "9VbcjQ_LxgnU"
      },
      "source": [
        "Defina el modelo utilizando LogisticRegression con semilla=1, solver=lgfgs y multi_class='multinomial'"
      ]
    },
    {
      "cell_type": "code",
      "execution_count": 13,
      "metadata": {
        "colab": {},
        "colab_type": "code",
        "id": "JQXRHYwAVw6i"
      },
      "outputs": [],
      "source": [
        "customer_churn = LogisticRegression(random_state=1, solver='lbfgs', multi_class='multinomial')\n"
      ]
    },
    {
      "cell_type": "markdown",
      "metadata": {
        "colab_type": "text",
        "id": "bgp6FZWExy95"
      },
      "source": [
        "Entrene el modelo "
      ]
    },
    {
      "cell_type": "code",
      "execution_count": null,
      "metadata": {},
      "outputs": [],
      "source": []
    },
    {
      "cell_type": "code",
      "execution_count": 18,
      "metadata": {
        "colab": {
          "base_uri": "https://localhost:8080/",
          "height": 104
        },
        "colab_type": "code",
        "id": "0OPg5lRhx7hW",
        "outputId": "98235b6c-2101-4d60-a63d-42db5991884a"
      },
      "outputs": [
        {
          "name": "stderr",
          "output_type": "stream",
          "text": [
            "c:\\Users\\nichi\\AppData\\Local\\Programs\\Python\\Python313\\Lib\\site-packages\\sklearn\\linear_model\\_logistic.py:1237: FutureWarning: 'multi_class' was deprecated in version 1.5 and will be removed in 1.7. From then on, binary problems will be fit as proper binary  logistic regression models (as if multi_class='ovr' were set). Leave it to its default value to avoid this warning.\n",
            "  warnings.warn(\n",
            "c:\\Users\\nichi\\AppData\\Local\\Programs\\Python\\Python313\\Lib\\site-packages\\sklearn\\linear_model\\_logistic.py:465: ConvergenceWarning: lbfgs failed to converge (status=1):\n",
            "STOP: TOTAL NO. OF ITERATIONS REACHED LIMIT.\n",
            "\n",
            "Increase the number of iterations (max_iter) or scale the data as shown in:\n",
            "    https://scikit-learn.org/stable/modules/preprocessing.html\n",
            "Please also refer to the documentation for alternative solver options:\n",
            "    https://scikit-learn.org/stable/modules/linear_model.html#logistic-regression\n",
            "  n_iter_i = _check_optimize_result(\n"
          ]
        },
        {
          "data": {
            "text/html": [
              "<style>#sk-container-id-1 {\n",
              "  /* Definition of color scheme common for light and dark mode */\n",
              "  --sklearn-color-text: #000;\n",
              "  --sklearn-color-text-muted: #666;\n",
              "  --sklearn-color-line: gray;\n",
              "  /* Definition of color scheme for unfitted estimators */\n",
              "  --sklearn-color-unfitted-level-0: #fff5e6;\n",
              "  --sklearn-color-unfitted-level-1: #f6e4d2;\n",
              "  --sklearn-color-unfitted-level-2: #ffe0b3;\n",
              "  --sklearn-color-unfitted-level-3: chocolate;\n",
              "  /* Definition of color scheme for fitted estimators */\n",
              "  --sklearn-color-fitted-level-0: #f0f8ff;\n",
              "  --sklearn-color-fitted-level-1: #d4ebff;\n",
              "  --sklearn-color-fitted-level-2: #b3dbfd;\n",
              "  --sklearn-color-fitted-level-3: cornflowerblue;\n",
              "\n",
              "  /* Specific color for light theme */\n",
              "  --sklearn-color-text-on-default-background: var(--sg-text-color, var(--theme-code-foreground, var(--jp-content-font-color1, black)));\n",
              "  --sklearn-color-background: var(--sg-background-color, var(--theme-background, var(--jp-layout-color0, white)));\n",
              "  --sklearn-color-border-box: var(--sg-text-color, var(--theme-code-foreground, var(--jp-content-font-color1, black)));\n",
              "  --sklearn-color-icon: #696969;\n",
              "\n",
              "  @media (prefers-color-scheme: dark) {\n",
              "    /* Redefinition of color scheme for dark theme */\n",
              "    --sklearn-color-text-on-default-background: var(--sg-text-color, var(--theme-code-foreground, var(--jp-content-font-color1, white)));\n",
              "    --sklearn-color-background: var(--sg-background-color, var(--theme-background, var(--jp-layout-color0, #111)));\n",
              "    --sklearn-color-border-box: var(--sg-text-color, var(--theme-code-foreground, var(--jp-content-font-color1, white)));\n",
              "    --sklearn-color-icon: #878787;\n",
              "  }\n",
              "}\n",
              "\n",
              "#sk-container-id-1 {\n",
              "  color: var(--sklearn-color-text);\n",
              "}\n",
              "\n",
              "#sk-container-id-1 pre {\n",
              "  padding: 0;\n",
              "}\n",
              "\n",
              "#sk-container-id-1 input.sk-hidden--visually {\n",
              "  border: 0;\n",
              "  clip: rect(1px 1px 1px 1px);\n",
              "  clip: rect(1px, 1px, 1px, 1px);\n",
              "  height: 1px;\n",
              "  margin: -1px;\n",
              "  overflow: hidden;\n",
              "  padding: 0;\n",
              "  position: absolute;\n",
              "  width: 1px;\n",
              "}\n",
              "\n",
              "#sk-container-id-1 div.sk-dashed-wrapped {\n",
              "  border: 1px dashed var(--sklearn-color-line);\n",
              "  margin: 0 0.4em 0.5em 0.4em;\n",
              "  box-sizing: border-box;\n",
              "  padding-bottom: 0.4em;\n",
              "  background-color: var(--sklearn-color-background);\n",
              "}\n",
              "\n",
              "#sk-container-id-1 div.sk-container {\n",
              "  /* jupyter's `normalize.less` sets `[hidden] { display: none; }`\n",
              "     but bootstrap.min.css set `[hidden] { display: none !important; }`\n",
              "     so we also need the `!important` here to be able to override the\n",
              "     default hidden behavior on the sphinx rendered scikit-learn.org.\n",
              "     See: https://github.com/scikit-learn/scikit-learn/issues/21755 */\n",
              "  display: inline-block !important;\n",
              "  position: relative;\n",
              "}\n",
              "\n",
              "#sk-container-id-1 div.sk-text-repr-fallback {\n",
              "  display: none;\n",
              "}\n",
              "\n",
              "div.sk-parallel-item,\n",
              "div.sk-serial,\n",
              "div.sk-item {\n",
              "  /* draw centered vertical line to link estimators */\n",
              "  background-image: linear-gradient(var(--sklearn-color-text-on-default-background), var(--sklearn-color-text-on-default-background));\n",
              "  background-size: 2px 100%;\n",
              "  background-repeat: no-repeat;\n",
              "  background-position: center center;\n",
              "}\n",
              "\n",
              "/* Parallel-specific style estimator block */\n",
              "\n",
              "#sk-container-id-1 div.sk-parallel-item::after {\n",
              "  content: \"\";\n",
              "  width: 100%;\n",
              "  border-bottom: 2px solid var(--sklearn-color-text-on-default-background);\n",
              "  flex-grow: 1;\n",
              "}\n",
              "\n",
              "#sk-container-id-1 div.sk-parallel {\n",
              "  display: flex;\n",
              "  align-items: stretch;\n",
              "  justify-content: center;\n",
              "  background-color: var(--sklearn-color-background);\n",
              "  position: relative;\n",
              "}\n",
              "\n",
              "#sk-container-id-1 div.sk-parallel-item {\n",
              "  display: flex;\n",
              "  flex-direction: column;\n",
              "}\n",
              "\n",
              "#sk-container-id-1 div.sk-parallel-item:first-child::after {\n",
              "  align-self: flex-end;\n",
              "  width: 50%;\n",
              "}\n",
              "\n",
              "#sk-container-id-1 div.sk-parallel-item:last-child::after {\n",
              "  align-self: flex-start;\n",
              "  width: 50%;\n",
              "}\n",
              "\n",
              "#sk-container-id-1 div.sk-parallel-item:only-child::after {\n",
              "  width: 0;\n",
              "}\n",
              "\n",
              "/* Serial-specific style estimator block */\n",
              "\n",
              "#sk-container-id-1 div.sk-serial {\n",
              "  display: flex;\n",
              "  flex-direction: column;\n",
              "  align-items: center;\n",
              "  background-color: var(--sklearn-color-background);\n",
              "  padding-right: 1em;\n",
              "  padding-left: 1em;\n",
              "}\n",
              "\n",
              "\n",
              "/* Toggleable style: style used for estimator/Pipeline/ColumnTransformer box that is\n",
              "clickable and can be expanded/collapsed.\n",
              "- Pipeline and ColumnTransformer use this feature and define the default style\n",
              "- Estimators will overwrite some part of the style using the `sk-estimator` class\n",
              "*/\n",
              "\n",
              "/* Pipeline and ColumnTransformer style (default) */\n",
              "\n",
              "#sk-container-id-1 div.sk-toggleable {\n",
              "  /* Default theme specific background. It is overwritten whether we have a\n",
              "  specific estimator or a Pipeline/ColumnTransformer */\n",
              "  background-color: var(--sklearn-color-background);\n",
              "}\n",
              "\n",
              "/* Toggleable label */\n",
              "#sk-container-id-1 label.sk-toggleable__label {\n",
              "  cursor: pointer;\n",
              "  display: flex;\n",
              "  width: 100%;\n",
              "  margin-bottom: 0;\n",
              "  padding: 0.5em;\n",
              "  box-sizing: border-box;\n",
              "  text-align: center;\n",
              "  align-items: start;\n",
              "  justify-content: space-between;\n",
              "  gap: 0.5em;\n",
              "}\n",
              "\n",
              "#sk-container-id-1 label.sk-toggleable__label .caption {\n",
              "  font-size: 0.6rem;\n",
              "  font-weight: lighter;\n",
              "  color: var(--sklearn-color-text-muted);\n",
              "}\n",
              "\n",
              "#sk-container-id-1 label.sk-toggleable__label-arrow:before {\n",
              "  /* Arrow on the left of the label */\n",
              "  content: \"▸\";\n",
              "  float: left;\n",
              "  margin-right: 0.25em;\n",
              "  color: var(--sklearn-color-icon);\n",
              "}\n",
              "\n",
              "#sk-container-id-1 label.sk-toggleable__label-arrow:hover:before {\n",
              "  color: var(--sklearn-color-text);\n",
              "}\n",
              "\n",
              "/* Toggleable content - dropdown */\n",
              "\n",
              "#sk-container-id-1 div.sk-toggleable__content {\n",
              "  max-height: 0;\n",
              "  max-width: 0;\n",
              "  overflow: hidden;\n",
              "  text-align: left;\n",
              "  /* unfitted */\n",
              "  background-color: var(--sklearn-color-unfitted-level-0);\n",
              "}\n",
              "\n",
              "#sk-container-id-1 div.sk-toggleable__content.fitted {\n",
              "  /* fitted */\n",
              "  background-color: var(--sklearn-color-fitted-level-0);\n",
              "}\n",
              "\n",
              "#sk-container-id-1 div.sk-toggleable__content pre {\n",
              "  margin: 0.2em;\n",
              "  border-radius: 0.25em;\n",
              "  color: var(--sklearn-color-text);\n",
              "  /* unfitted */\n",
              "  background-color: var(--sklearn-color-unfitted-level-0);\n",
              "}\n",
              "\n",
              "#sk-container-id-1 div.sk-toggleable__content.fitted pre {\n",
              "  /* unfitted */\n",
              "  background-color: var(--sklearn-color-fitted-level-0);\n",
              "}\n",
              "\n",
              "#sk-container-id-1 input.sk-toggleable__control:checked~div.sk-toggleable__content {\n",
              "  /* Expand drop-down */\n",
              "  max-height: 200px;\n",
              "  max-width: 100%;\n",
              "  overflow: auto;\n",
              "}\n",
              "\n",
              "#sk-container-id-1 input.sk-toggleable__control:checked~label.sk-toggleable__label-arrow:before {\n",
              "  content: \"▾\";\n",
              "}\n",
              "\n",
              "/* Pipeline/ColumnTransformer-specific style */\n",
              "\n",
              "#sk-container-id-1 div.sk-label input.sk-toggleable__control:checked~label.sk-toggleable__label {\n",
              "  color: var(--sklearn-color-text);\n",
              "  background-color: var(--sklearn-color-unfitted-level-2);\n",
              "}\n",
              "\n",
              "#sk-container-id-1 div.sk-label.fitted input.sk-toggleable__control:checked~label.sk-toggleable__label {\n",
              "  background-color: var(--sklearn-color-fitted-level-2);\n",
              "}\n",
              "\n",
              "/* Estimator-specific style */\n",
              "\n",
              "/* Colorize estimator box */\n",
              "#sk-container-id-1 div.sk-estimator input.sk-toggleable__control:checked~label.sk-toggleable__label {\n",
              "  /* unfitted */\n",
              "  background-color: var(--sklearn-color-unfitted-level-2);\n",
              "}\n",
              "\n",
              "#sk-container-id-1 div.sk-estimator.fitted input.sk-toggleable__control:checked~label.sk-toggleable__label {\n",
              "  /* fitted */\n",
              "  background-color: var(--sklearn-color-fitted-level-2);\n",
              "}\n",
              "\n",
              "#sk-container-id-1 div.sk-label label.sk-toggleable__label,\n",
              "#sk-container-id-1 div.sk-label label {\n",
              "  /* The background is the default theme color */\n",
              "  color: var(--sklearn-color-text-on-default-background);\n",
              "}\n",
              "\n",
              "/* On hover, darken the color of the background */\n",
              "#sk-container-id-1 div.sk-label:hover label.sk-toggleable__label {\n",
              "  color: var(--sklearn-color-text);\n",
              "  background-color: var(--sklearn-color-unfitted-level-2);\n",
              "}\n",
              "\n",
              "/* Label box, darken color on hover, fitted */\n",
              "#sk-container-id-1 div.sk-label.fitted:hover label.sk-toggleable__label.fitted {\n",
              "  color: var(--sklearn-color-text);\n",
              "  background-color: var(--sklearn-color-fitted-level-2);\n",
              "}\n",
              "\n",
              "/* Estimator label */\n",
              "\n",
              "#sk-container-id-1 div.sk-label label {\n",
              "  font-family: monospace;\n",
              "  font-weight: bold;\n",
              "  display: inline-block;\n",
              "  line-height: 1.2em;\n",
              "}\n",
              "\n",
              "#sk-container-id-1 div.sk-label-container {\n",
              "  text-align: center;\n",
              "}\n",
              "\n",
              "/* Estimator-specific */\n",
              "#sk-container-id-1 div.sk-estimator {\n",
              "  font-family: monospace;\n",
              "  border: 1px dotted var(--sklearn-color-border-box);\n",
              "  border-radius: 0.25em;\n",
              "  box-sizing: border-box;\n",
              "  margin-bottom: 0.5em;\n",
              "  /* unfitted */\n",
              "  background-color: var(--sklearn-color-unfitted-level-0);\n",
              "}\n",
              "\n",
              "#sk-container-id-1 div.sk-estimator.fitted {\n",
              "  /* fitted */\n",
              "  background-color: var(--sklearn-color-fitted-level-0);\n",
              "}\n",
              "\n",
              "/* on hover */\n",
              "#sk-container-id-1 div.sk-estimator:hover {\n",
              "  /* unfitted */\n",
              "  background-color: var(--sklearn-color-unfitted-level-2);\n",
              "}\n",
              "\n",
              "#sk-container-id-1 div.sk-estimator.fitted:hover {\n",
              "  /* fitted */\n",
              "  background-color: var(--sklearn-color-fitted-level-2);\n",
              "}\n",
              "\n",
              "/* Specification for estimator info (e.g. \"i\" and \"?\") */\n",
              "\n",
              "/* Common style for \"i\" and \"?\" */\n",
              "\n",
              ".sk-estimator-doc-link,\n",
              "a:link.sk-estimator-doc-link,\n",
              "a:visited.sk-estimator-doc-link {\n",
              "  float: right;\n",
              "  font-size: smaller;\n",
              "  line-height: 1em;\n",
              "  font-family: monospace;\n",
              "  background-color: var(--sklearn-color-background);\n",
              "  border-radius: 1em;\n",
              "  height: 1em;\n",
              "  width: 1em;\n",
              "  text-decoration: none !important;\n",
              "  margin-left: 0.5em;\n",
              "  text-align: center;\n",
              "  /* unfitted */\n",
              "  border: var(--sklearn-color-unfitted-level-1) 1pt solid;\n",
              "  color: var(--sklearn-color-unfitted-level-1);\n",
              "}\n",
              "\n",
              ".sk-estimator-doc-link.fitted,\n",
              "a:link.sk-estimator-doc-link.fitted,\n",
              "a:visited.sk-estimator-doc-link.fitted {\n",
              "  /* fitted */\n",
              "  border: var(--sklearn-color-fitted-level-1) 1pt solid;\n",
              "  color: var(--sklearn-color-fitted-level-1);\n",
              "}\n",
              "\n",
              "/* On hover */\n",
              "div.sk-estimator:hover .sk-estimator-doc-link:hover,\n",
              ".sk-estimator-doc-link:hover,\n",
              "div.sk-label-container:hover .sk-estimator-doc-link:hover,\n",
              ".sk-estimator-doc-link:hover {\n",
              "  /* unfitted */\n",
              "  background-color: var(--sklearn-color-unfitted-level-3);\n",
              "  color: var(--sklearn-color-background);\n",
              "  text-decoration: none;\n",
              "}\n",
              "\n",
              "div.sk-estimator.fitted:hover .sk-estimator-doc-link.fitted:hover,\n",
              ".sk-estimator-doc-link.fitted:hover,\n",
              "div.sk-label-container:hover .sk-estimator-doc-link.fitted:hover,\n",
              ".sk-estimator-doc-link.fitted:hover {\n",
              "  /* fitted */\n",
              "  background-color: var(--sklearn-color-fitted-level-3);\n",
              "  color: var(--sklearn-color-background);\n",
              "  text-decoration: none;\n",
              "}\n",
              "\n",
              "/* Span, style for the box shown on hovering the info icon */\n",
              ".sk-estimator-doc-link span {\n",
              "  display: none;\n",
              "  z-index: 9999;\n",
              "  position: relative;\n",
              "  font-weight: normal;\n",
              "  right: .2ex;\n",
              "  padding: .5ex;\n",
              "  margin: .5ex;\n",
              "  width: min-content;\n",
              "  min-width: 20ex;\n",
              "  max-width: 50ex;\n",
              "  color: var(--sklearn-color-text);\n",
              "  box-shadow: 2pt 2pt 4pt #999;\n",
              "  /* unfitted */\n",
              "  background: var(--sklearn-color-unfitted-level-0);\n",
              "  border: .5pt solid var(--sklearn-color-unfitted-level-3);\n",
              "}\n",
              "\n",
              ".sk-estimator-doc-link.fitted span {\n",
              "  /* fitted */\n",
              "  background: var(--sklearn-color-fitted-level-0);\n",
              "  border: var(--sklearn-color-fitted-level-3);\n",
              "}\n",
              "\n",
              ".sk-estimator-doc-link:hover span {\n",
              "  display: block;\n",
              "}\n",
              "\n",
              "/* \"?\"-specific style due to the `<a>` HTML tag */\n",
              "\n",
              "#sk-container-id-1 a.estimator_doc_link {\n",
              "  float: right;\n",
              "  font-size: 1rem;\n",
              "  line-height: 1em;\n",
              "  font-family: monospace;\n",
              "  background-color: var(--sklearn-color-background);\n",
              "  border-radius: 1rem;\n",
              "  height: 1rem;\n",
              "  width: 1rem;\n",
              "  text-decoration: none;\n",
              "  /* unfitted */\n",
              "  color: var(--sklearn-color-unfitted-level-1);\n",
              "  border: var(--sklearn-color-unfitted-level-1) 1pt solid;\n",
              "}\n",
              "\n",
              "#sk-container-id-1 a.estimator_doc_link.fitted {\n",
              "  /* fitted */\n",
              "  border: var(--sklearn-color-fitted-level-1) 1pt solid;\n",
              "  color: var(--sklearn-color-fitted-level-1);\n",
              "}\n",
              "\n",
              "/* On hover */\n",
              "#sk-container-id-1 a.estimator_doc_link:hover {\n",
              "  /* unfitted */\n",
              "  background-color: var(--sklearn-color-unfitted-level-3);\n",
              "  color: var(--sklearn-color-background);\n",
              "  text-decoration: none;\n",
              "}\n",
              "\n",
              "#sk-container-id-1 a.estimator_doc_link.fitted:hover {\n",
              "  /* fitted */\n",
              "  background-color: var(--sklearn-color-fitted-level-3);\n",
              "}\n",
              "</style><div id=\"sk-container-id-1\" class=\"sk-top-container\"><div class=\"sk-text-repr-fallback\"><pre>LogisticRegression(multi_class=&#x27;multinomial&#x27;, random_state=1)</pre><b>In a Jupyter environment, please rerun this cell to show the HTML representation or trust the notebook. <br />On GitHub, the HTML representation is unable to render, please try loading this page with nbviewer.org.</b></div><div class=\"sk-container\" hidden><div class=\"sk-item\"><div class=\"sk-estimator fitted sk-toggleable\"><input class=\"sk-toggleable__control sk-hidden--visually\" id=\"sk-estimator-id-1\" type=\"checkbox\" checked><label for=\"sk-estimator-id-1\" class=\"sk-toggleable__label fitted sk-toggleable__label-arrow\"><div><div>LogisticRegression</div></div><div><a class=\"sk-estimator-doc-link fitted\" rel=\"noreferrer\" target=\"_blank\" href=\"https://scikit-learn.org/1.6/modules/generated/sklearn.linear_model.LogisticRegression.html\">?<span>Documentation for LogisticRegression</span></a><span class=\"sk-estimator-doc-link fitted\">i<span>Fitted</span></span></div></label><div class=\"sk-toggleable__content fitted\"><pre>LogisticRegression(multi_class=&#x27;multinomial&#x27;, random_state=1)</pre></div> </div></div></div></div>"
            ],
            "text/plain": [
              "LogisticRegression(multi_class='multinomial', random_state=1)"
            ]
          },
          "execution_count": 18,
          "metadata": {},
          "output_type": "execute_result"
        }
      ],
      "source": [
        "from datetime import datetime\n",
        "\n",
        "# Fit Model\n",
        "# Convertir la columna 'Onboard_date' a numérica usando toordinal\n",
        "\n",
        "train_X = train_X.copy()\n",
        "val_X = val_X.copy()\n",
        "train_X['Onboard_date'] = train_X['Onboard_date'].apply(datetime.fromisoformat).apply(datetime.toordinal)\n",
        "val_X['Onboard_date'] = val_X['Onboard_date'].apply(datetime.fromisoformat).apply(datetime.toordinal)\n",
        "\n",
        "customer_churn.fit(train_X, train_y)"
      ]
    },
    {
      "cell_type": "markdown",
      "metadata": {
        "colab_type": "text",
        "id": "1HBu_ZiAyfO9"
      },
      "source": [
        "## Predicción y validación del modelo "
      ]
    },
    {
      "cell_type": "markdown",
      "metadata": {
        "colab_type": "text",
        "id": "bccY66GfzJCH"
      },
      "source": [
        "Utilice el modelo para realizar las predicciones con los datos de validación y calcule el valor MAE (mean absolute error) obtenido sin haber indicado la cantidad de hojas (max_leaf_nodes)."
      ]
    },
    {
      "cell_type": "code",
      "execution_count": 20,
      "metadata": {
        "colab": {
          "base_uri": "https://localhost:8080/",
          "height": 52
        },
        "colab_type": "code",
        "id": "-hGydPMH0Ohd",
        "outputId": "f3a31cc6-a23d-4eeb-808d-7a3757c1fdac"
      },
      "outputs": [
        {
          "name": "stdout",
          "output_type": "stream",
          "text": [
            "Score datos validación 89.000000\n",
            "Accuracy: 0.8888888888888888\n"
          ]
        }
      ],
      "source": [
        "from sklearn import metrics\n",
        "val_predictions = customer_churn.predict(val_X)\n",
        "score = round(metrics.accuracy_score(val_y, val_predictions) * 100)\n",
        "print(\"Score datos validación %f\" % score)\n",
        "print(\"Accuracy:\", metrics.accuracy_score(val_y, val_predictions))"
      ]
    },
    {
      "cell_type": "code",
      "execution_count": 24,
      "metadata": {
        "colab": {},
        "colab_type": "code",
        "id": "Gf5WzveI8jM5"
      },
      "outputs": [],
      "source": [
        "score = round(metrics.accuracy_score(val_y, val_predictions) * 100)\n",
        "assert score == 89, \"Error en resultado de score\""
      ]
    },
    {
      "cell_type": "markdown",
      "metadata": {
        "colab_type": "text",
        "id": "wwX9TUFbb2h3"
      },
      "source": [
        "Calcule los resultados del modelo utilizando random forest con 1000 estimadores y max_depth=10, y semilla=1"
      ]
    },
    {
      "cell_type": "code",
      "execution_count": 25,
      "metadata": {
        "colab": {
          "base_uri": "https://localhost:8080/",
          "height": 34
        },
        "colab_type": "code",
        "id": "pomaEc5mA0_1",
        "outputId": "b3e55de2-0644-407d-a614-6626176ab681"
      },
      "outputs": [
        {
          "data": {
            "text/plain": [
              "1"
            ]
          },
          "execution_count": 25,
          "metadata": {},
          "output_type": "execute_result"
        }
      ],
      "source": [
        "RF = RandomForestClassifier(n_estimators=1000, max_depth=10, random_state=1)\n",
        "RF.fit(train_X, train_y)\n",
        "round(RF.score(val_X, val_y))\n"
      ]
    },
    {
      "cell_type": "markdown",
      "metadata": {
        "colab_type": "text",
        "id": "1JpqwNZzCPee"
      },
      "source": [
        "Calcule los resultados del modelo utilizando Multi-Class Classification utilizando solver='lbfgs'"
      ]
    },
    {
      "cell_type": "code",
      "execution_count": null,
      "metadata": {
        "colab": {
          "base_uri": "https://localhost:8080/",
          "height": 34
        },
        "colab_type": "code",
        "id": "VRCF0YLQBmmG",
        "outputId": "987b8f8c-fffb-4cbe-c6c5-438f48ef1be7"
      },
      "outputs": [
        {
          "data": {
            "text/plain": [
              "0.8222"
            ]
          },
          "execution_count": 38,
          "metadata": {
            "tags": []
          },
          "output_type": "execute_result"
        }
      ],
      "source": [
        "NN = MLPClassifier(solver='lbfgs', random_state=1)\n",
        "NN.fit(train_X, train_y)\n",
        "round(NN.score(val_X, val_y))"
      ]
    },
    {
      "cell_type": "markdown",
      "metadata": {
        "colab_type": "text",
        "id": "yDsExLOsCjIg"
      },
      "source": [
        "## Resultados finales"
      ]
    },
    {
      "cell_type": "markdown",
      "metadata": {
        "colab_type": "text",
        "id": "7kTeLLwu1s2O"
      },
      "source": [
        "Utilice el mejor modelo obtenido y calcule el score con todos los datos "
      ]
    },
    {
      "cell_type": "code",
      "execution_count": 29,
      "metadata": {
        "colab": {
          "base_uri": "https://localhost:8080/",
          "height": 34
        },
        "colab_type": "code",
        "id": "evdY3sFR1_dX",
        "outputId": "c0d1f489-2a81-4ac3-9d8a-d40b618a501e"
      },
      "outputs": [
        {
          "data": {
            "text/plain": [
              "96.67"
            ]
          },
          "execution_count": 29,
          "metadata": {},
          "output_type": "execute_result"
        }
      ],
      "source": [
        "from datetime import datetime\n",
        "\n",
        "X = X.copy()\n",
        "X['Onboard_date'] = X['Onboard_date'].apply(datetime.fromisoformat).apply(datetime.toordinal)\n",
        "score = RF.score(X, y) * 100\n",
        "round(score, 2)\n"
      ]
    },
    {
      "cell_type": "code",
      "execution_count": 31,
      "metadata": {
        "colab": {},
        "colab_type": "code",
        "id": "pJ_q9zVUAkPY"
      },
      "outputs": [],
      "source": [
        "assert round(score) == 97, \"Error en resultado de porcentaje de error\""
      ]
    }
  ],
  "metadata": {
    "colab": {
      "collapsed_sections": [],
      "name": "Customer_churn_toDo.ipynb",
      "provenance": [],
      "toc_visible": true
    },
    "kernelspec": {
      "display_name": "Python 3",
      "name": "python3"
    },
    "language_info": {
      "codemirror_mode": {
        "name": "ipython",
        "version": 3
      },
      "file_extension": ".py",
      "mimetype": "text/x-python",
      "name": "python",
      "nbconvert_exporter": "python",
      "pygments_lexer": "ipython3",
      "version": "3.13.0"
    }
  },
  "nbformat": 4,
  "nbformat_minor": 0
}
